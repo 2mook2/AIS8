{
 "cells": [
  {
   "cell_type": "markdown",
   "id": "0f00c54b",
   "metadata": {},
   "source": [
    "### 복습 퀴즈"
   ]
  },
  {
   "cell_type": "code",
   "execution_count": 1,
   "id": "af5f9c44",
   "metadata": {},
   "outputs": [],
   "source": [
    "import pingouin as pg"
   ]
  },
  {
   "cell_type": "code",
   "execution_count": 2,
   "id": "de028cb7",
   "metadata": {},
   "outputs": [
    {
     "data": {
      "text/html": [
       "<div>\n",
       "<style scoped>\n",
       "    .dataframe tbody tr th:only-of-type {\n",
       "        vertical-align: middle;\n",
       "    }\n",
       "\n",
       "    .dataframe tbody tr th {\n",
       "        vertical-align: top;\n",
       "    }\n",
       "\n",
       "    .dataframe thead th {\n",
       "        text-align: right;\n",
       "    }\n",
       "</style>\n",
       "<table border=\"1\" class=\"dataframe\">\n",
       "  <thead>\n",
       "    <tr style=\"text-align: right;\">\n",
       "      <th></th>\n",
       "      <th>U-val</th>\n",
       "      <th>alternative</th>\n",
       "      <th>p-val</th>\n",
       "      <th>RBC</th>\n",
       "      <th>CLES</th>\n",
       "    </tr>\n",
       "  </thead>\n",
       "  <tbody>\n",
       "    <tr>\n",
       "      <th>MWU</th>\n",
       "      <td>6.0</td>\n",
       "      <td>two-sided</td>\n",
       "      <td>0.040462</td>\n",
       "      <td>0.666667</td>\n",
       "      <td>0.166667</td>\n",
       "    </tr>\n",
       "  </tbody>\n",
       "</table>\n",
       "</div>"
      ],
      "text/plain": [
       "     U-val alternative     p-val       RBC      CLES\n",
       "MWU    6.0   two-sided  0.040462  0.666667  0.166667"
      ]
     },
     "execution_count": 2,
     "metadata": {},
     "output_type": "execute_result"
    }
   ],
   "source": [
    "pg.mwu([1,1,1,1,1,30], [2,2,2,2,2,2]) # u검정은 3이든 30이든 p-val이 바뀌지 않음"
   ]
  },
  {
   "cell_type": "code",
   "execution_count": 3,
   "id": "c3246c98",
   "metadata": {},
   "outputs": [
    {
     "name": "stderr",
     "output_type": "stream",
     "text": [
      "C:\\Users\\mook\\anaconda3\\lib\\site-packages\\pingouin\\parametric.py:266: RuntimeWarning: Precision loss occurred in moment calculation due to catastrophic cancellation. This occurs when the data are nearly identical. Results may be unreliable.\n",
      "  tval, pval = ttest_ind(x, y, equal_var=True, alternative=alternative)\n"
     ]
    },
    {
     "data": {
      "text/html": [
       "<div>\n",
       "<style scoped>\n",
       "    .dataframe tbody tr th:only-of-type {\n",
       "        vertical-align: middle;\n",
       "    }\n",
       "\n",
       "    .dataframe tbody tr th {\n",
       "        vertical-align: top;\n",
       "    }\n",
       "\n",
       "    .dataframe thead th {\n",
       "        text-align: right;\n",
       "    }\n",
       "</style>\n",
       "<table border=\"1\" class=\"dataframe\">\n",
       "  <thead>\n",
       "    <tr style=\"text-align: right;\">\n",
       "      <th></th>\n",
       "      <th>T</th>\n",
       "      <th>dof</th>\n",
       "      <th>alternative</th>\n",
       "      <th>p-val</th>\n",
       "      <th>CI95%</th>\n",
       "      <th>cohen-d</th>\n",
       "      <th>BF10</th>\n",
       "      <th>power</th>\n",
       "    </tr>\n",
       "  </thead>\n",
       "  <tbody>\n",
       "    <tr>\n",
       "      <th>T-test</th>\n",
       "      <td>0.793103</td>\n",
       "      <td>10</td>\n",
       "      <td>two-sided</td>\n",
       "      <td>0.446127</td>\n",
       "      <td>[-6.94, 14.6]</td>\n",
       "      <td>0.457898</td>\n",
       "      <td>0.57</td>\n",
       "      <td>0.111069</td>\n",
       "    </tr>\n",
       "  </tbody>\n",
       "</table>\n",
       "</div>"
      ],
      "text/plain": [
       "               T  dof alternative     p-val          CI95%   cohen-d  BF10  \\\n",
       "T-test  0.793103   10   two-sided  0.446127  [-6.94, 14.6]  0.457898  0.57   \n",
       "\n",
       "           power  \n",
       "T-test  0.111069  "
      ]
     },
     "execution_count": 3,
     "metadata": {},
     "output_type": "execute_result"
    }
   ],
   "source": [
    "pg.ttest([1,1,1,1,1,30], [2,2,2,2,2,2])"
   ]
  },
  {
   "cell_type": "code",
   "execution_count": 4,
   "id": "652f5469",
   "metadata": {},
   "outputs": [
    {
     "data": {
      "text/html": [
       "<div>\n",
       "<style scoped>\n",
       "    .dataframe tbody tr th:only-of-type {\n",
       "        vertical-align: middle;\n",
       "    }\n",
       "\n",
       "    .dataframe tbody tr th {\n",
       "        vertical-align: top;\n",
       "    }\n",
       "\n",
       "    .dataframe thead th {\n",
       "        text-align: right;\n",
       "    }\n",
       "</style>\n",
       "<table border=\"1\" class=\"dataframe\">\n",
       "  <thead>\n",
       "    <tr style=\"text-align: right;\">\n",
       "      <th></th>\n",
       "      <th>mileage</th>\n",
       "      <th>model</th>\n",
       "      <th>price</th>\n",
       "      <th>year</th>\n",
       "      <th>my_car_damage</th>\n",
       "      <th>other_car_damage</th>\n",
       "    </tr>\n",
       "  </thead>\n",
       "  <tbody>\n",
       "    <tr>\n",
       "      <th>0</th>\n",
       "      <td>63608</td>\n",
       "      <td>K3</td>\n",
       "      <td>970</td>\n",
       "      <td>2017</td>\n",
       "      <td>0</td>\n",
       "      <td>564596</td>\n",
       "    </tr>\n",
       "    <tr>\n",
       "      <th>1</th>\n",
       "      <td>69336</td>\n",
       "      <td>K3</td>\n",
       "      <td>1130</td>\n",
       "      <td>2015</td>\n",
       "      <td>1839700</td>\n",
       "      <td>1140150</td>\n",
       "    </tr>\n",
       "    <tr>\n",
       "      <th>2</th>\n",
       "      <td>36000</td>\n",
       "      <td>K3</td>\n",
       "      <td>1380</td>\n",
       "      <td>2016</td>\n",
       "      <td>446520</td>\n",
       "      <td>2244910</td>\n",
       "    </tr>\n",
       "    <tr>\n",
       "      <th>3</th>\n",
       "      <td>19029</td>\n",
       "      <td>K3</td>\n",
       "      <td>1390</td>\n",
       "      <td>2017</td>\n",
       "      <td>889000</td>\n",
       "      <td>4196110</td>\n",
       "    </tr>\n",
       "    <tr>\n",
       "      <th>4</th>\n",
       "      <td>97090</td>\n",
       "      <td>K3</td>\n",
       "      <td>760</td>\n",
       "      <td>2015</td>\n",
       "      <td>2339137</td>\n",
       "      <td>2029570</td>\n",
       "    </tr>\n",
       "  </tbody>\n",
       "</table>\n",
       "</div>"
      ],
      "text/plain": [
       "   mileage model  price  year  my_car_damage  other_car_damage\n",
       "0    63608    K3    970  2017              0            564596\n",
       "1    69336    K3   1130  2015        1839700           1140150\n",
       "2    36000    K3   1380  2016         446520           2244910\n",
       "3    19029    K3   1390  2017         889000           4196110\n",
       "4    97090    K3    760  2015        2339137           2029570"
      ]
     },
     "execution_count": 4,
     "metadata": {},
     "output_type": "execute_result"
    }
   ],
   "source": [
    "import pandas as pd\n",
    "df = pd.read_excel('data/car.xlsx')\n",
    "df.head()"
   ]
  },
  {
   "cell_type": "markdown",
   "id": "6b22f268",
   "metadata": {},
   "source": [
    "### 상관 계수"
   ]
  },
  {
   "cell_type": "code",
   "execution_count": 5,
   "id": "6c86895c",
   "metadata": {},
   "outputs": [
    {
     "data": {
      "text/plain": [
       "<AxesSubplot:xlabel='mileage', ylabel='price'>"
      ]
     },
     "execution_count": 5,
     "metadata": {},
     "output_type": "execute_result"
    },
    {
     "data": {
      "image/png": "[encoded data removed]",
      "text/plain": [
       "<Figure size 640x480 with 1 Axes>"
      ]
     },
     "metadata": {},
     "output_type": "display_data"
    }
   ],
   "source": [
    "import seaborn as sns\n",
    "sns.scatterplot(data=df, x='mileage', y='price')"
   ]
  },
  {
   "cell_type": "code",
   "execution_count": 6,
   "id": "837e3b0d",
   "metadata": {},
   "outputs": [
    {
     "data": {
      "text/html": [
       "<div>\n",
       "<style scoped>\n",
       "    .dataframe tbody tr th:only-of-type {\n",
       "        vertical-align: middle;\n",
       "    }\n",
       "\n",
       "    .dataframe tbody tr th {\n",
       "        vertical-align: top;\n",
       "    }\n",
       "\n",
       "    .dataframe thead th {\n",
       "        text-align: right;\n",
       "    }\n",
       "</style>\n",
       "<table border=\"1\" class=\"dataframe\">\n",
       "  <thead>\n",
       "    <tr style=\"text-align: right;\">\n",
       "      <th></th>\n",
       "      <th>n</th>\n",
       "      <th>r</th>\n",
       "      <th>CI95%</th>\n",
       "      <th>p-val</th>\n",
       "      <th>BF10</th>\n",
       "      <th>power</th>\n",
       "    </tr>\n",
       "  </thead>\n",
       "  <tbody>\n",
       "    <tr>\n",
       "      <th>pearson</th>\n",
       "      <td>274</td>\n",
       "      <td>-0.67616</td>\n",
       "      <td>[-0.74, -0.61]</td>\n",
       "      <td>5.809388e-38</td>\n",
       "      <td>5.069e+34</td>\n",
       "      <td>1.0</td>\n",
       "    </tr>\n",
       "  </tbody>\n",
       "</table>\n",
       "</div>"
      ],
      "text/plain": [
       "           n        r           CI95%         p-val       BF10  power\n",
       "pearson  274 -0.67616  [-0.74, -0.61]  5.809388e-38  5.069e+34    1.0"
      ]
     },
     "execution_count": 6,
     "metadata": {},
     "output_type": "execute_result"
    }
   ],
   "source": [
    "pg.corr(df['mileage'], df['price'])\n",
    "# p-val < 0.05 => 상관이 있다.\n",
    "# 피어슨 상관계수 => -0.67616"
   ]
  },
  {
   "cell_type": "code",
   "execution_count": 7,
   "id": "2a451ae0",
   "metadata": {},
   "outputs": [
    {
     "data": {
      "text/plain": [
       "<AxesSubplot:xlabel='year', ylabel='price'>"
      ]
     },
     "execution_count": 7,
     "metadata": {},
     "output_type": "execute_result"
    },
    {
     "data": {
      "image/png": "[encoded data removed]",
      "text/plain": [
       "<Figure size 640x480 with 1 Axes>"
      ]
     },
     "metadata": {},
     "output_type": "display_data"
    }
   ],
   "source": [
    "# 실습\n",
    "# 연식(year)과 가격(price)의 상관 관계\n",
    "sns.scatterplot(data=df, x='year', y='price')"
   ]
  },
  {
   "cell_type": "code",
   "execution_count": 8,
   "id": "fd19b46e",
   "metadata": {},
   "outputs": [
    {
     "data": {
      "text/html": [
       "<div>\n",
       "<style scoped>\n",
       "    .dataframe tbody tr th:only-of-type {\n",
       "        vertical-align: middle;\n",
       "    }\n",
       "\n",
       "    .dataframe tbody tr th {\n",
       "        vertical-align: top;\n",
       "    }\n",
       "\n",
       "    .dataframe thead th {\n",
       "        text-align: right;\n",
       "    }\n",
       "</style>\n",
       "<table border=\"1\" class=\"dataframe\">\n",
       "  <thead>\n",
       "    <tr style=\"text-align: right;\">\n",
       "      <th></th>\n",
       "      <th>n</th>\n",
       "      <th>r</th>\n",
       "      <th>CI95%</th>\n",
       "      <th>p-val</th>\n",
       "      <th>BF10</th>\n",
       "      <th>power</th>\n",
       "    </tr>\n",
       "  </thead>\n",
       "  <tbody>\n",
       "    <tr>\n",
       "      <th>pearson</th>\n",
       "      <td>274</td>\n",
       "      <td>0.828908</td>\n",
       "      <td>[0.79, 0.86]</td>\n",
       "      <td>1.388002e-70</td>\n",
       "      <td>1.004e+67</td>\n",
       "      <td>1.0</td>\n",
       "    </tr>\n",
       "  </tbody>\n",
       "</table>\n",
       "</div>"
      ],
      "text/plain": [
       "           n         r         CI95%         p-val       BF10  power\n",
       "pearson  274  0.828908  [0.79, 0.86]  1.388002e-70  1.004e+67    1.0"
      ]
     },
     "execution_count": 8,
     "metadata": {},
     "output_type": "execute_result"
    }
   ],
   "source": [
    "pg.corr(df['year'], df['price']) # 양희권님 질문: 연도는 이산형인데 피어슨상관계수로 하는게 상관없나요? => \n",
    "# p-val < 0.05 => 상관이 있다.\n",
    "# 피어슨 상관계수 => +0.828908"
   ]
  },
  {
   "cell_type": "code",
   "execution_count": 9,
   "id": "2da186ed",
   "metadata": {},
   "outputs": [],
   "source": [
    "# => 연식의 상관 관계가 주행거리보다 강하다\n",
    "# => 차를 싸게 사고 싶으면, 연식은 오래 됐지만 주행거리가 짧은 차를 사라!"
   ]
  },
  {
   "cell_type": "code",
   "execution_count": 10,
   "id": "357c71ae",
   "metadata": {},
   "outputs": [
    {
     "data": {
      "text/html": [
       "<div>\n",
       "<style scoped>\n",
       "    .dataframe tbody tr th:only-of-type {\n",
       "        vertical-align: middle;\n",
       "    }\n",
       "\n",
       "    .dataframe tbody tr th {\n",
       "        vertical-align: top;\n",
       "    }\n",
       "\n",
       "    .dataframe thead th {\n",
       "        text-align: right;\n",
       "    }\n",
       "</style>\n",
       "<table border=\"1\" class=\"dataframe\">\n",
       "  <thead>\n",
       "    <tr style=\"text-align: right;\">\n",
       "      <th></th>\n",
       "      <th>n</th>\n",
       "      <th>r</th>\n",
       "      <th>CI95%</th>\n",
       "      <th>p-val</th>\n",
       "      <th>BF10</th>\n",
       "      <th>power</th>\n",
       "    </tr>\n",
       "  </thead>\n",
       "  <tbody>\n",
       "    <tr>\n",
       "      <th>pearson</th>\n",
       "      <td>274</td>\n",
       "      <td>0.00795</td>\n",
       "      <td>[-0.11, 0.13]</td>\n",
       "      <td>0.895775</td>\n",
       "      <td>0.076</td>\n",
       "      <td>0.051912</td>\n",
       "    </tr>\n",
       "  </tbody>\n",
       "</table>\n",
       "</div>"
      ],
      "text/plain": [
       "           n        r          CI95%     p-val   BF10     power\n",
       "pearson  274  0.00795  [-0.11, 0.13]  0.895775  0.076  0.051912"
      ]
     },
     "execution_count": 10,
     "metadata": {},
     "output_type": "execute_result"
    }
   ],
   "source": [
    "pg.corr(df.mileage, df.other_car_damage) # pg.corr()에서의 신뢰구간은 상관계수의 신뢰구간\n",
    "# 귀무가설: 상관 없다 -> 기각 못함 -> 결론 유보\n",
    "# 신뢰구간 -0.1  0  +0.1"
   ]
  },
  {
   "cell_type": "code",
   "execution_count": 11,
   "id": "cdcb5474",
   "metadata": {},
   "outputs": [
    {
     "data": {
      "text/html": [
       "<div>\n",
       "<style scoped>\n",
       "    .dataframe tbody tr th:only-of-type {\n",
       "        vertical-align: middle;\n",
       "    }\n",
       "\n",
       "    .dataframe tbody tr th {\n",
       "        vertical-align: top;\n",
       "    }\n",
       "\n",
       "    .dataframe thead th {\n",
       "        text-align: right;\n",
       "    }\n",
       "</style>\n",
       "<table border=\"1\" class=\"dataframe\">\n",
       "  <thead>\n",
       "    <tr style=\"text-align: right;\">\n",
       "      <th></th>\n",
       "      <th>mileage</th>\n",
       "      <th>price</th>\n",
       "      <th>year</th>\n",
       "      <th>my_car_damage</th>\n",
       "      <th>other_car_damage</th>\n",
       "    </tr>\n",
       "  </thead>\n",
       "  <tbody>\n",
       "    <tr>\n",
       "      <th>mileage</th>\n",
       "      <td>1.000000</td>\n",
       "      <td>-0.676160</td>\n",
       "      <td>-0.569850</td>\n",
       "      <td>0.192549</td>\n",
       "      <td>0.007950</td>\n",
       "    </tr>\n",
       "    <tr>\n",
       "      <th>price</th>\n",
       "      <td>-0.676160</td>\n",
       "      <td>1.000000</td>\n",
       "      <td>0.828908</td>\n",
       "      <td>-0.418789</td>\n",
       "      <td>-0.245997</td>\n",
       "    </tr>\n",
       "    <tr>\n",
       "      <th>year</th>\n",
       "      <td>-0.569850</td>\n",
       "      <td>0.828908</td>\n",
       "      <td>1.000000</td>\n",
       "      <td>-0.318469</td>\n",
       "      <td>-0.204411</td>\n",
       "    </tr>\n",
       "    <tr>\n",
       "      <th>my_car_damage</th>\n",
       "      <td>0.192549</td>\n",
       "      <td>-0.418789</td>\n",
       "      <td>-0.318469</td>\n",
       "      <td>1.000000</td>\n",
       "      <td>0.243626</td>\n",
       "    </tr>\n",
       "    <tr>\n",
       "      <th>other_car_damage</th>\n",
       "      <td>0.007950</td>\n",
       "      <td>-0.245997</td>\n",
       "      <td>-0.204411</td>\n",
       "      <td>0.243626</td>\n",
       "      <td>1.000000</td>\n",
       "    </tr>\n",
       "  </tbody>\n",
       "</table>\n",
       "</div>"
      ],
      "text/plain": [
       "                   mileage     price      year  my_car_damage  \\\n",
       "mileage           1.000000 -0.676160 -0.569850       0.192549   \n",
       "price            -0.676160  1.000000  0.828908      -0.418789   \n",
       "year             -0.569850  0.828908  1.000000      -0.318469   \n",
       "my_car_damage     0.192549 -0.418789 -0.318469       1.000000   \n",
       "other_car_damage  0.007950 -0.245997 -0.204411       0.243626   \n",
       "\n",
       "                  other_car_damage  \n",
       "mileage                   0.007950  \n",
       "price                    -0.245997  \n",
       "year                     -0.204411  \n",
       "my_car_damage             0.243626  \n",
       "other_car_damage          1.000000  "
      ]
     },
     "execution_count": 11,
     "metadata": {},
     "output_type": "execute_result"
    }
   ],
   "source": [
    "df.corr(numeric_only=True) # 상관 행렬을 볼 때 조심할 것: 상관 행렬은 사실상 상관 분석을 아주 많이 한 것 == 다중비교 문제 조심! ex) 바이블 코드를 기억하라!"
   ]
  },
  {
   "cell_type": "code",
   "execution_count": 12,
   "id": "314fe71f",
   "metadata": {},
   "outputs": [
    {
     "data": {
      "text/html": [
       "<div>\n",
       "<style scoped>\n",
       "    .dataframe tbody tr th:only-of-type {\n",
       "        vertical-align: middle;\n",
       "    }\n",
       "\n",
       "    .dataframe tbody tr th {\n",
       "        vertical-align: top;\n",
       "    }\n",
       "\n",
       "    .dataframe thead th {\n",
       "        text-align: right;\n",
       "    }\n",
       "</style>\n",
       "<table border=\"1\" class=\"dataframe\">\n",
       "  <thead>\n",
       "    <tr style=\"text-align: right;\">\n",
       "      <th></th>\n",
       "      <th>Date</th>\n",
       "      <th>GLD</th>\n",
       "      <th>SPX</th>\n",
       "      <th>KOSPI200</th>\n",
       "    </tr>\n",
       "  </thead>\n",
       "  <tbody>\n",
       "    <tr>\n",
       "      <th>0</th>\n",
       "      <td>44958</td>\n",
       "      <td>1850.6</td>\n",
       "      <td>4147.60</td>\n",
       "      <td>323.75</td>\n",
       "    </tr>\n",
       "    <tr>\n",
       "      <th>1</th>\n",
       "      <td>44927</td>\n",
       "      <td>1929.5</td>\n",
       "      <td>4076.60</td>\n",
       "      <td>317.26</td>\n",
       "    </tr>\n",
       "    <tr>\n",
       "      <th>2</th>\n",
       "      <td>44896</td>\n",
       "      <td>1826.2</td>\n",
       "      <td>3839.50</td>\n",
       "      <td>291.10</td>\n",
       "    </tr>\n",
       "    <tr>\n",
       "      <th>3</th>\n",
       "      <td>44866</td>\n",
       "      <td>1759.9</td>\n",
       "      <td>4080.11</td>\n",
       "      <td>321.00</td>\n",
       "    </tr>\n",
       "    <tr>\n",
       "      <th>4</th>\n",
       "      <td>44835</td>\n",
       "      <td>1640.7</td>\n",
       "      <td>3871.98</td>\n",
       "      <td>299.58</td>\n",
       "    </tr>\n",
       "    <tr>\n",
       "      <th>...</th>\n",
       "      <td>...</td>\n",
       "      <td>...</td>\n",
       "      <td>...</td>\n",
       "      <td>...</td>\n",
       "    </tr>\n",
       "    <tr>\n",
       "      <th>235</th>\n",
       "      <td>37803</td>\n",
       "      <td>355.0</td>\n",
       "      <td>993.32</td>\n",
       "      <td>91.52</td>\n",
       "    </tr>\n",
       "    <tr>\n",
       "      <th>236</th>\n",
       "      <td>37773</td>\n",
       "      <td>346.7</td>\n",
       "      <td>974.50</td>\n",
       "      <td>85.47</td>\n",
       "    </tr>\n",
       "    <tr>\n",
       "      <th>237</th>\n",
       "      <td>37742</td>\n",
       "      <td>365.6</td>\n",
       "      <td>963.59</td>\n",
       "      <td>80.53</td>\n",
       "    </tr>\n",
       "    <tr>\n",
       "      <th>238</th>\n",
       "      <td>37712</td>\n",
       "      <td>339.8</td>\n",
       "      <td>916.92</td>\n",
       "      <td>76.45</td>\n",
       "    </tr>\n",
       "    <tr>\n",
       "      <th>239</th>\n",
       "      <td>37681</td>\n",
       "      <td>336.9</td>\n",
       "      <td>848.18</td>\n",
       "      <td>68.05</td>\n",
       "    </tr>\n",
       "  </tbody>\n",
       "</table>\n",
       "<p>240 rows × 4 columns</p>\n",
       "</div>"
      ],
      "text/plain": [
       "      Date     GLD      SPX  KOSPI200\n",
       "0    44958  1850.6  4147.60    323.75\n",
       "1    44927  1929.5  4076.60    317.26\n",
       "2    44896  1826.2  3839.50    291.10\n",
       "3    44866  1759.9  4080.11    321.00\n",
       "4    44835  1640.7  3871.98    299.58\n",
       "..     ...     ...      ...       ...\n",
       "235  37803   355.0   993.32     91.52\n",
       "236  37773   346.7   974.50     85.47\n",
       "237  37742   365.6   963.59     80.53\n",
       "238  37712   339.8   916.92     76.45\n",
       "239  37681   336.9   848.18     68.05\n",
       "\n",
       "[240 rows x 4 columns]"
      ]
     },
     "execution_count": 12,
     "metadata": {},
     "output_type": "execute_result"
    }
   ],
   "source": [
    "# 실습\n",
    "asset = pd.read_excel('data/asset.xlsx')\n",
    "asset"
   ]
  },
  {
   "cell_type": "code",
   "execution_count": 13,
   "id": "e013f565",
   "metadata": {},
   "outputs": [
    {
     "data": {
      "text/plain": [
       "<AxesSubplot:xlabel='GLD', ylabel='SPX'>"
      ]
     },
     "execution_count": 13,
     "metadata": {},
     "output_type": "execute_result"
    },
    {
     "data": {
      "image/png": "[encoded data removed]",
      "text/plain": [
       "<Figure size 640x480 with 1 Axes>"
      ]
     },
     "metadata": {},
     "output_type": "display_data"
    }
   ],
   "source": [
    "sns.scatterplot(data=asset, x='GLD', y='SPX')"
   ]
  },
  {
   "cell_type": "code",
   "execution_count": 14,
   "id": "a516e119",
   "metadata": {},
   "outputs": [
    {
     "data": {
      "text/html": [
       "<div>\n",
       "<style scoped>\n",
       "    .dataframe tbody tr th:only-of-type {\n",
       "        vertical-align: middle;\n",
       "    }\n",
       "\n",
       "    .dataframe tbody tr th {\n",
       "        vertical-align: top;\n",
       "    }\n",
       "\n",
       "    .dataframe thead th {\n",
       "        text-align: right;\n",
       "    }\n",
       "</style>\n",
       "<table border=\"1\" class=\"dataframe\">\n",
       "  <thead>\n",
       "    <tr style=\"text-align: right;\">\n",
       "      <th></th>\n",
       "      <th>n</th>\n",
       "      <th>r</th>\n",
       "      <th>CI95%</th>\n",
       "      <th>p-val</th>\n",
       "      <th>BF10</th>\n",
       "      <th>power</th>\n",
       "    </tr>\n",
       "  </thead>\n",
       "  <tbody>\n",
       "    <tr>\n",
       "      <th>pearson</th>\n",
       "      <td>240</td>\n",
       "      <td>0.686535</td>\n",
       "      <td>[0.61, 0.75]</td>\n",
       "      <td>8.580001e-35</td>\n",
       "      <td>3.763e+31</td>\n",
       "      <td>1.0</td>\n",
       "    </tr>\n",
       "  </tbody>\n",
       "</table>\n",
       "</div>"
      ],
      "text/plain": [
       "           n         r         CI95%         p-val       BF10  power\n",
       "pearson  240  0.686535  [0.61, 0.75]  8.580001e-35  3.763e+31    1.0"
      ]
     },
     "execution_count": 14,
     "metadata": {},
     "output_type": "execute_result"
    }
   ],
   "source": [
    "pg.corr(asset['GLD'], asset['SPX'])\n",
    "# 귀무가설: 상관 없다.\n",
    "# p-val < 0.05 => 귀무가설 기각 == 상관 있다.\n",
    "# 피어슨 상관 계수: 0.686535"
   ]
  },
  {
   "cell_type": "code",
   "execution_count": 15,
   "id": "38d82731",
   "metadata": {},
   "outputs": [
    {
     "data": {
      "text/plain": [
       "<AxesSubplot:xlabel='Date', ylabel='GLD'>"
      ]
     },
     "execution_count": 15,
     "metadata": {},
     "output_type": "execute_result"
    },
    {
     "data": {
      "image/png": "[encoded data removed]",
      "text/plain": [
       "<Figure size 640x480 with 1 Axes>"
      ]
     },
     "metadata": {},
     "output_type": "display_data"
    }
   ],
   "source": [
    "# 현대 포트폴리오 이론에 의하면 금과 주식을 같이 사면 안 된다지만 조금 잘못된 분석임\n",
    "sns.scatterplot(data=asset, x='Date', y='GLD')\n",
    "sns.scatterplot(data=asset, x='Date', y='SPX')\n",
    "# 둘 다 시간에 따라 꾸준히 증가 => 차분을 하고 corr을 다시 구해야 함"
   ]
  },
  {
   "cell_type": "code",
   "execution_count": 16,
   "id": "ef06a718",
   "metadata": {},
   "outputs": [
    {
     "data": {
      "text/plain": [
       "0        NaN\n",
       "1       78.9\n",
       "2     -103.3\n",
       "3      -66.3\n",
       "4     -119.2\n",
       "       ...  \n",
       "235    -21.3\n",
       "236     -8.3\n",
       "237     18.9\n",
       "238    -25.8\n",
       "239     -2.9\n",
       "Name: GLD, Length: 240, dtype: float64"
      ]
     },
     "execution_count": 16,
     "metadata": {},
     "output_type": "execute_result"
    }
   ],
   "source": [
    "asset['GLD'].diff() # 차분(이후기간 - 이전기간)"
   ]
  },
  {
   "cell_type": "code",
   "execution_count": 17,
   "id": "d7a1c5dd",
   "metadata": {},
   "outputs": [
    {
     "data": {
      "text/plain": [
       "0        NaN\n",
       "1       78.9\n",
       "2     -103.3\n",
       "3      -66.3\n",
       "4     -119.2\n",
       "       ...  \n",
       "235    -21.3\n",
       "236     -8.3\n",
       "237     18.9\n",
       "238    -25.8\n",
       "239     -2.9\n",
       "Name: GLD, Length: 240, dtype: float64"
      ]
     },
     "execution_count": 17,
     "metadata": {},
     "output_type": "execute_result"
    }
   ],
   "source": [
    "asset['GLD'].diff() # 차분(이후기간 - 이전기간)"
   ]
  },
  {
   "cell_type": "code",
   "execution_count": 18,
   "id": "7f20379a",
   "metadata": {},
   "outputs": [
    {
     "data": {
      "text/plain": [
       "0           NaN\n",
       "1      0.042635\n",
       "2     -0.053537\n",
       "3     -0.036305\n",
       "4     -0.067731\n",
       "         ...   \n",
       "235   -0.056604\n",
       "236   -0.023380\n",
       "237    0.054514\n",
       "238   -0.070569\n",
       "239   -0.008534\n",
       "Name: GLD, Length: 240, dtype: float64"
      ]
     },
     "execution_count": 18,
     "metadata": {},
     "output_type": "execute_result"
    }
   ],
   "source": [
    "asset['GLD'].pct_change() # 차분/이전기간 퍼센트"
   ]
  },
  {
   "cell_type": "code",
   "execution_count": 19,
   "id": "51d6593b",
   "metadata": {},
   "outputs": [
    {
     "data": {
      "text/plain": [
       "0           NaN\n",
       "1     -0.017118\n",
       "2     -0.058161\n",
       "3      0.062667\n",
       "4     -0.051011\n",
       "         ...   \n",
       "235   -0.014573\n",
       "236   -0.018947\n",
       "237   -0.011195\n",
       "238   -0.048433\n",
       "239   -0.074968\n",
       "Name: SPX, Length: 240, dtype: float64"
      ]
     },
     "execution_count": 19,
     "metadata": {},
     "output_type": "execute_result"
    }
   ],
   "source": [
    "asset['SPX'].pct_change() "
   ]
  },
  {
   "cell_type": "code",
   "execution_count": 20,
   "id": "e3130ac4",
   "metadata": {},
   "outputs": [
    {
     "data": {
      "text/plain": [
       "<AxesSubplot:xlabel='Date', ylabel='GLD'>"
      ]
     },
     "execution_count": 20,
     "metadata": {},
     "output_type": "execute_result"
    },
    {
     "data": {
      "image/png": "[encoded data removed]",
      "text/plain": [
       "<Figure size 640x480 with 1 Axes>"
      ]
     },
     "metadata": {},
     "output_type": "display_data"
    }
   ],
   "source": [
    "# 시간에 따른 금 수익률\n",
    "sns.scatterplot(x=asset['Date'], y=asset['GLD'].pct_change())"
   ]
  },
  {
   "cell_type": "code",
   "execution_count": 21,
   "id": "dcc526fd",
   "metadata": {},
   "outputs": [
    {
     "data": {
      "text/plain": [
       "<AxesSubplot:xlabel='Date', ylabel='SPX'>"
      ]
     },
     "execution_count": 21,
     "metadata": {},
     "output_type": "execute_result"
    },
    {
     "data": {
      "image/png": "[encoded data removed]",
      "text/plain": [
       "<Figure size 640x480 with 1 Axes>"
      ]
     },
     "metadata": {},
     "output_type": "display_data"
    }
   ],
   "source": [
    "# 시간에 따른 주식 수익률\n",
    "sns.scatterplot(x=asset['Date'], y=asset['SPX'].pct_change())"
   ]
  },
  {
   "cell_type": "code",
   "execution_count": 22,
   "id": "c8e46e6c",
   "metadata": {},
   "outputs": [
    {
     "data": {
      "text/plain": [
       "<AxesSubplot:xlabel='GLD', ylabel='SPX'>"
      ]
     },
     "execution_count": 22,
     "metadata": {},
     "output_type": "execute_result"
    },
    {
     "data": {
      "image/png": "[encoded data removed]",
      "text/plain": [
       "<Figure size 640x480 with 1 Axes>"
      ]
     },
     "metadata": {},
     "output_type": "display_data"
    }
   ],
   "source": [
    "# 금과 주식의 수익률 산점도\n",
    "sns.scatterplot(x=asset['GLD'].pct_change() , y=asset['SPX'].pct_change())"
   ]
  },
  {
   "cell_type": "code",
   "execution_count": 23,
   "id": "1e520ed6",
   "metadata": {},
   "outputs": [
    {
     "data": {
      "text/html": [
       "<div>\n",
       "<style scoped>\n",
       "    .dataframe tbody tr th:only-of-type {\n",
       "        vertical-align: middle;\n",
       "    }\n",
       "\n",
       "    .dataframe tbody tr th {\n",
       "        vertical-align: top;\n",
       "    }\n",
       "\n",
       "    .dataframe thead th {\n",
       "        text-align: right;\n",
       "    }\n",
       "</style>\n",
       "<table border=\"1\" class=\"dataframe\">\n",
       "  <thead>\n",
       "    <tr style=\"text-align: right;\">\n",
       "      <th></th>\n",
       "      <th>n</th>\n",
       "      <th>r</th>\n",
       "      <th>CI95%</th>\n",
       "      <th>p-val</th>\n",
       "      <th>BF10</th>\n",
       "      <th>power</th>\n",
       "    </tr>\n",
       "  </thead>\n",
       "  <tbody>\n",
       "    <tr>\n",
       "      <th>pearson</th>\n",
       "      <td>239</td>\n",
       "      <td>0.10955</td>\n",
       "      <td>[-0.02, 0.23]</td>\n",
       "      <td>0.091065</td>\n",
       "      <td>0.335</td>\n",
       "      <td>0.394753</td>\n",
       "    </tr>\n",
       "  </tbody>\n",
       "</table>\n",
       "</div>"
      ],
      "text/plain": [
       "           n        r          CI95%     p-val   BF10     power\n",
       "pearson  239  0.10955  [-0.02, 0.23]  0.091065  0.335  0.394753"
      ]
     },
     "execution_count": 23,
     "metadata": {},
     "output_type": "execute_result"
    }
   ],
   "source": [
    "# 금 수익률과 주식 수익률의 상관 관계\n",
    "pg.corr(asset['GLD'].pct_change(), asset['SPX'].pct_change())\n",
    "# 귀무가설: 주가와 금의 수익률은 상관이 없다\n",
    "# p-val > 0.05 => 기각 X\n",
    "# 결론을 유보\n",
    "# 투자 관점: 주식과 금은 같은 포트폴리오에 넣을만하다(실제로 넣으라는 것은 아님)"
   ]
  },
  {
   "cell_type": "code",
   "execution_count": 24,
   "id": "6c493b4a",
   "metadata": {},
   "outputs": [
    {
     "data": {
      "text/plain": [
       "<AxesSubplot:xlabel='KOSPI200', ylabel='SPX'>"
      ]
     },
     "execution_count": 24,
     "metadata": {},
     "output_type": "execute_result"
    },
    {
     "data": {
      "image/png": "[encoded data removed]",
      "text/plain": [
       "<Figure size 640x480 with 1 Axes>"
      ]
     },
     "metadata": {},
     "output_type": "display_data"
    }
   ],
   "source": [
    "# 한국 주식과 미국 주식 수익률 산점도\n",
    "sns.scatterplot(x=asset['KOSPI200'].pct_change(), y=asset['SPX'].pct_change())"
   ]
  },
  {
   "cell_type": "code",
   "execution_count": 25,
   "id": "a3ab7689",
   "metadata": {},
   "outputs": [
    {
     "data": {
      "text/html": [
       "<div>\n",
       "<style scoped>\n",
       "    .dataframe tbody tr th:only-of-type {\n",
       "        vertical-align: middle;\n",
       "    }\n",
       "\n",
       "    .dataframe tbody tr th {\n",
       "        vertical-align: top;\n",
       "    }\n",
       "\n",
       "    .dataframe thead th {\n",
       "        text-align: right;\n",
       "    }\n",
       "</style>\n",
       "<table border=\"1\" class=\"dataframe\">\n",
       "  <thead>\n",
       "    <tr style=\"text-align: right;\">\n",
       "      <th></th>\n",
       "      <th>n</th>\n",
       "      <th>r</th>\n",
       "      <th>CI95%</th>\n",
       "      <th>p-val</th>\n",
       "      <th>BF10</th>\n",
       "      <th>power</th>\n",
       "    </tr>\n",
       "  </thead>\n",
       "  <tbody>\n",
       "    <tr>\n",
       "      <th>pearson</th>\n",
       "      <td>239</td>\n",
       "      <td>0.696451</td>\n",
       "      <td>[0.62, 0.76]</td>\n",
       "      <td>5.177694e-36</td>\n",
       "      <td>6.016e+32</td>\n",
       "      <td>1.0</td>\n",
       "    </tr>\n",
       "  </tbody>\n",
       "</table>\n",
       "</div>"
      ],
      "text/plain": [
       "           n         r         CI95%         p-val       BF10  power\n",
       "pearson  239  0.696451  [0.62, 0.76]  5.177694e-36  6.016e+32    1.0"
      ]
     },
     "execution_count": 25,
     "metadata": {},
     "output_type": "execute_result"
    }
   ],
   "source": [
    "pg.corr(asset['KOSPI200'].pct_change(), asset['SPX'].pct_change())\n",
    "# 귀무가설: 상관 없다\n",
    "# p-val < 0.05 => 상관 있다.\n",
    "# 피어슨 상관 계수: 0.696451"
   ]
  },
  {
   "cell_type": "code",
   "execution_count": 26,
   "id": "d2cf58b8",
   "metadata": {},
   "outputs": [
    {
     "data": {
      "text/html": [
       "<div>\n",
       "<style scoped>\n",
       "    .dataframe tbody tr th:only-of-type {\n",
       "        vertical-align: middle;\n",
       "    }\n",
       "\n",
       "    .dataframe tbody tr th {\n",
       "        vertical-align: top;\n",
       "    }\n",
       "\n",
       "    .dataframe thead th {\n",
       "        text-align: right;\n",
       "    }\n",
       "</style>\n",
       "<table border=\"1\" class=\"dataframe\">\n",
       "  <thead>\n",
       "    <tr style=\"text-align: right;\">\n",
       "      <th></th>\n",
       "      <th>n</th>\n",
       "      <th>r</th>\n",
       "      <th>CI95%</th>\n",
       "      <th>p-val</th>\n",
       "      <th>power</th>\n",
       "    </tr>\n",
       "  </thead>\n",
       "  <tbody>\n",
       "    <tr>\n",
       "      <th>spearman</th>\n",
       "      <td>274</td>\n",
       "      <td>-0.692834</td>\n",
       "      <td>[-0.75, -0.63]</td>\n",
       "      <td>1.645376e-40</td>\n",
       "      <td>1.0</td>\n",
       "    </tr>\n",
       "  </tbody>\n",
       "</table>\n",
       "</div>"
      ],
      "text/plain": [
       "            n         r           CI95%         p-val  power\n",
       "spearman  274 -0.692834  [-0.75, -0.63]  1.645376e-40    1.0"
      ]
     },
     "execution_count": 26,
     "metadata": {},
     "output_type": "execute_result"
    }
   ],
   "source": [
    "# 위에서 가격과 마일리지 했을 때 가격이 높아지면 곡선의 형태를 띔\n",
    "# 스피어만 상관 계수\n",
    "pg.corr(df.price, df.mileage, method='spearman') # 가격을 순서대로 나열하고, 마일리지도 순서대로 나열한다음 비교했을 때 상관 있을 확률"
   ]
  },
  {
   "cell_type": "code",
   "execution_count": 27,
   "id": "0c88e0d1",
   "metadata": {},
   "outputs": [
    {
     "data": {
      "text/html": [
       "<div>\n",
       "<style scoped>\n",
       "    .dataframe tbody tr th:only-of-type {\n",
       "        vertical-align: middle;\n",
       "    }\n",
       "\n",
       "    .dataframe tbody tr th {\n",
       "        vertical-align: top;\n",
       "    }\n",
       "\n",
       "    .dataframe thead th {\n",
       "        text-align: right;\n",
       "    }\n",
       "</style>\n",
       "<table border=\"1\" class=\"dataframe\">\n",
       "  <thead>\n",
       "    <tr style=\"text-align: right;\">\n",
       "      <th></th>\n",
       "      <th>n</th>\n",
       "      <th>r</th>\n",
       "      <th>CI95%</th>\n",
       "      <th>p-val</th>\n",
       "      <th>power</th>\n",
       "    </tr>\n",
       "  </thead>\n",
       "  <tbody>\n",
       "    <tr>\n",
       "      <th>kendall</th>\n",
       "      <td>274</td>\n",
       "      <td>-0.507709</td>\n",
       "      <td>[-0.59, -0.41]</td>\n",
       "      <td>1.119123e-35</td>\n",
       "      <td>1.0</td>\n",
       "    </tr>\n",
       "  </tbody>\n",
       "</table>\n",
       "</div>"
      ],
      "text/plain": [
       "           n         r           CI95%         p-val  power\n",
       "kendall  274 -0.507709  [-0.59, -0.41]  1.119123e-35    1.0"
      ]
     },
     "execution_count": 27,
     "metadata": {},
     "output_type": "execute_result"
    }
   ],
   "source": [
    "# 켄달 상관 계수\n",
    "pg.corr(df.price, df.mileage, method='kendall') # 눈 감고 2대 찍었을 때 대소 관계가 상관있을 확률"
   ]
  },
  {
   "cell_type": "markdown",
   "id": "301b951d",
   "metadata": {},
   "source": [
    "### 회귀 분석"
   ]
  },
  {
   "cell_type": "code",
   "execution_count": 28,
   "id": "b14b3da9",
   "metadata": {},
   "outputs": [
    {
     "data": {
      "text/plain": [
       "<AxesSubplot:xlabel='mileage', ylabel='price'>"
      ]
     },
     "execution_count": 28,
     "metadata": {},
     "output_type": "execute_result"
    },
    {
     "data": {
      "image/png": "[encoded data removed]",
      "text/plain": [
       "<Figure size 640x480 with 1 Axes>"
      ]
     },
     "metadata": {},
     "output_type": "display_data"
    }
   ],
   "source": [
    "sns.regplot(x='mileage', y='price', data=df) # 주행거리와 가격의 관계 시각화\n",
    "# 그래프에서 선 주위에 있는 영역은 뭘 의미하는 건가요? => 절편과 기울기도 각각의 신뢰 구간이 있는데 그 걸로 나타낼 수 있는 범위"
   ]
  },
  {
   "cell_type": "code",
   "execution_count": 30,
   "id": "76830f64",
   "metadata": {},
   "outputs": [
    {
     "data": {
      "text/html": [
       "<table class=\"simpletable\">\n",
       "<caption>OLS Regression Results</caption>\n",
       "<tr>\n",
       "  <th>Dep. Variable:</th>          <td>price</td>      <th>  R-squared:         </th> <td>   0.457</td>\n",
       "</tr>\n",
       "<tr>\n",
       "  <th>Model:</th>                   <td>OLS</td>       <th>  Adj. R-squared:    </th> <td>   0.455</td>\n",
       "</tr>\n",
       "<tr>\n",
       "  <th>Method:</th>             <td>Least Squares</td>  <th>  F-statistic:       </th> <td>   229.1</td>\n",
       "</tr>\n",
       "<tr>\n",
       "  <th>Date:</th>             <td>Thu, 16 Feb 2023</td> <th>  Prob (F-statistic):</th> <td>5.81e-38</td>\n",
       "</tr>\n",
       "<tr>\n",
       "  <th>Time:</th>                 <td>14:43:01</td>     <th>  Log-Likelihood:    </th> <td> -1895.7</td>\n",
       "</tr>\n",
       "<tr>\n",
       "  <th>No. Observations:</th>      <td>   274</td>      <th>  AIC:               </th> <td>   3795.</td>\n",
       "</tr>\n",
       "<tr>\n",
       "  <th>Df Residuals:</th>          <td>   272</td>      <th>  BIC:               </th> <td>   3803.</td>\n",
       "</tr>\n",
       "<tr>\n",
       "  <th>Df Model:</th>              <td>     1</td>      <th>                     </th>     <td> </td>   \n",
       "</tr>\n",
       "<tr>\n",
       "  <th>Covariance Type:</th>      <td>nonrobust</td>    <th>                     </th>     <td> </td>   \n",
       "</tr>\n",
       "</table>\n",
       "<table class=\"simpletable\">\n",
       "<tr>\n",
       "      <td></td>         <th>coef</th>     <th>std err</th>      <th>t</th>      <th>P>|t|</th>  <th>[0.025</th>    <th>0.975]</th>  \n",
       "</tr>\n",
       "<tr>\n",
       "  <th>Intercept</th> <td> 1258.7668</td> <td>   30.599</td> <td>   41.137</td> <td> 0.000</td> <td> 1198.526</td> <td> 1319.008</td>\n",
       "</tr>\n",
       "<tr>\n",
       "  <th>mileage</th>   <td>   -0.0052</td> <td>    0.000</td> <td>  -15.136</td> <td> 0.000</td> <td>   -0.006</td> <td>   -0.005</td>\n",
       "</tr>\n",
       "</table>\n",
       "<table class=\"simpletable\">\n",
       "<tr>\n",
       "  <th>Omnibus:</th>       <td> 0.258</td> <th>  Durbin-Watson:     </th> <td>   1.101</td>\n",
       "</tr>\n",
       "<tr>\n",
       "  <th>Prob(Omnibus):</th> <td> 0.879</td> <th>  Jarque-Bera (JB):  </th> <td>   0.108</td>\n",
       "</tr>\n",
       "<tr>\n",
       "  <th>Skew:</th>          <td> 0.032</td> <th>  Prob(JB):          </th> <td>   0.947</td>\n",
       "</tr>\n",
       "<tr>\n",
       "  <th>Kurtosis:</th>      <td> 3.074</td> <th>  Cond. No.          </th> <td>1.83e+05</td>\n",
       "</tr>\n",
       "</table><br/><br/>Notes:<br/>[1] Standard Errors assume that the covariance matrix of the errors is correctly specified.<br/>[2] The condition number is large, 1.83e+05. This might indicate that there are<br/>strong multicollinearity or other numerical problems."
      ],
      "text/plain": [
       "<class 'statsmodels.iolib.summary.Summary'>\n",
       "\"\"\"\n",
       "                            OLS Regression Results                            \n",
       "==============================================================================\n",
       "Dep. Variable:                  price   R-squared:                       0.457\n",
       "Model:                            OLS   Adj. R-squared:                  0.455\n",
       "Method:                 Least Squares   F-statistic:                     229.1\n",
       "Date:                Thu, 16 Feb 2023   Prob (F-statistic):           5.81e-38\n",
       "Time:                        14:43:01   Log-Likelihood:                -1895.7\n",
       "No. Observations:                 274   AIC:                             3795.\n",
       "Df Residuals:                     272   BIC:                             3803.\n",
       "Df Model:                           1                                         \n",
       "Covariance Type:            nonrobust                                         \n",
       "==============================================================================\n",
       "                 coef    std err          t      P>|t|      [0.025      0.975]\n",
       "------------------------------------------------------------------------------\n",
       "Intercept   1258.7668     30.599     41.137      0.000    1198.526    1319.008\n",
       "mileage       -0.0052      0.000    -15.136      0.000      -0.006      -0.005\n",
       "==============================================================================\n",
       "Omnibus:                        0.258   Durbin-Watson:                   1.101\n",
       "Prob(Omnibus):                  0.879   Jarque-Bera (JB):                0.108\n",
       "Skew:                           0.032   Prob(JB):                        0.947\n",
       "Kurtosis:                       3.074   Cond. No.                     1.83e+05\n",
       "==============================================================================\n",
       "\n",
       "Notes:\n",
       "[1] Standard Errors assume that the covariance matrix of the errors is correctly specified.\n",
       "[2] The condition number is large, 1.83e+05. This might indicate that there are\n",
       "strong multicollinearity or other numerical problems.\n",
       "\"\"\""
      ]
     },
     "execution_count": 30,
     "metadata": {},
     "output_type": "execute_result"
    }
   ],
   "source": [
    "# 회귀분석\n",
    "from statsmodels.formula.api import ols # OLS: 최소제곱법\n",
    "m = ols('price ~ mileage', df).fit()\n",
    "m.summary()\n",
    "# Intercept(절편) 1258.7668  주행거리 0Km일 때 1258만원 \n",
    "# mileage (기울기)  -0.0052  1만Km마다 52만원 꼴로 가격이 떨어짐"
   ]
  },
  {
   "cell_type": "code",
   "execution_count": 32,
   "id": "3d7b9167",
   "metadata": {},
   "outputs": [
    {
     "data": {
      "text/html": [
       "<div>\n",
       "<style scoped>\n",
       "    .dataframe tbody tr th:only-of-type {\n",
       "        vertical-align: middle;\n",
       "    }\n",
       "\n",
       "    .dataframe tbody tr th {\n",
       "        vertical-align: top;\n",
       "    }\n",
       "\n",
       "    .dataframe thead th {\n",
       "        text-align: right;\n",
       "    }\n",
       "</style>\n",
       "<table border=\"1\" class=\"dataframe\">\n",
       "  <thead>\n",
       "    <tr style=\"text-align: right;\">\n",
       "      <th></th>\n",
       "      <th>mileage</th>\n",
       "    </tr>\n",
       "  </thead>\n",
       "  <tbody>\n",
       "    <tr>\n",
       "      <th>0</th>\n",
       "      <td>10000</td>\n",
       "    </tr>\n",
       "    <tr>\n",
       "      <th>1</th>\n",
       "      <td>20000</td>\n",
       "    </tr>\n",
       "  </tbody>\n",
       "</table>\n",
       "</div>"
      ],
      "text/plain": [
       "   mileage\n",
       "0    10000\n",
       "1    20000"
      ]
     },
     "execution_count": 32,
     "metadata": {},
     "output_type": "execute_result"
    }
   ],
   "source": [
    "# 가격 예측\n",
    "new_df = pd.DataFrame({'mileage': [10000, 20000]})\n",
    "new_df"
   ]
  },
  {
   "cell_type": "code",
   "execution_count": 34,
   "id": "6391d933",
   "metadata": {},
   "outputs": [
    {
     "data": {
      "text/html": [
       "<div>\n",
       "<style scoped>\n",
       "    .dataframe tbody tr th:only-of-type {\n",
       "        vertical-align: middle;\n",
       "    }\n",
       "\n",
       "    .dataframe tbody tr th {\n",
       "        vertical-align: top;\n",
       "    }\n",
       "\n",
       "    .dataframe thead th {\n",
       "        text-align: right;\n",
       "    }\n",
       "</style>\n",
       "<table border=\"1\" class=\"dataframe\">\n",
       "  <thead>\n",
       "    <tr style=\"text-align: right;\">\n",
       "      <th></th>\n",
       "      <th>mileage</th>\n",
       "      <th>price</th>\n",
       "    </tr>\n",
       "  </thead>\n",
       "  <tbody>\n",
       "    <tr>\n",
       "      <th>0</th>\n",
       "      <td>10000</td>\n",
       "      <td>1206.483684</td>\n",
       "    </tr>\n",
       "    <tr>\n",
       "      <th>1</th>\n",
       "      <td>20000</td>\n",
       "      <td>1154.200600</td>\n",
       "    </tr>\n",
       "  </tbody>\n",
       "</table>\n",
       "</div>"
      ],
      "text/plain": [
       "   mileage        price\n",
       "0    10000  1206.483684\n",
       "1    20000  1154.200600"
      ]
     },
     "execution_count": 34,
     "metadata": {},
     "output_type": "execute_result"
    }
   ],
   "source": [
    "new_df['price'] = m.predict(new_df['mileage'])\n",
    "new_df"
   ]
  },
  {
   "cell_type": "code",
   "execution_count": 37,
   "id": "15eaf274",
   "metadata": {},
   "outputs": [
    {
     "data": {
      "text/html": [
       "<div>\n",
       "<style scoped>\n",
       "    .dataframe tbody tr th:only-of-type {\n",
       "        vertical-align: middle;\n",
       "    }\n",
       "\n",
       "    .dataframe tbody tr th {\n",
       "        vertical-align: top;\n",
       "    }\n",
       "\n",
       "    .dataframe thead th {\n",
       "        text-align: right;\n",
       "    }\n",
       "</style>\n",
       "<table border=\"1\" class=\"dataframe\">\n",
       "  <thead>\n",
       "    <tr style=\"text-align: right;\">\n",
       "      <th></th>\n",
       "      <th>speed</th>\n",
       "      <th>dist</th>\n",
       "    </tr>\n",
       "  </thead>\n",
       "  <tbody>\n",
       "    <tr>\n",
       "      <th>0</th>\n",
       "      <td>4</td>\n",
       "      <td>2</td>\n",
       "    </tr>\n",
       "    <tr>\n",
       "      <th>1</th>\n",
       "      <td>4</td>\n",
       "      <td>10</td>\n",
       "    </tr>\n",
       "    <tr>\n",
       "      <th>2</th>\n",
       "      <td>7</td>\n",
       "      <td>4</td>\n",
       "    </tr>\n",
       "    <tr>\n",
       "      <th>3</th>\n",
       "      <td>7</td>\n",
       "      <td>22</td>\n",
       "    </tr>\n",
       "    <tr>\n",
       "      <th>4</th>\n",
       "      <td>8</td>\n",
       "      <td>16</td>\n",
       "    </tr>\n",
       "  </tbody>\n",
       "</table>\n",
       "</div>"
      ],
      "text/plain": [
       "   speed  dist\n",
       "0      4     2\n",
       "1      4    10\n",
       "2      7     4\n",
       "3      7    22\n",
       "4      8    16"
      ]
     },
     "execution_count": 37,
     "metadata": {},
     "output_type": "execute_result"
    }
   ],
   "source": [
    "sp = pd.read_excel('data/speed.xlsx')\n",
    "sp.head() # speed: 차량 속도, dist: 제동 거리"
   ]
  },
  {
   "cell_type": "code",
   "execution_count": 39,
   "id": "e42c7dc4",
   "metadata": {},
   "outputs": [
    {
     "data": {
      "text/plain": [
       "<AxesSubplot:xlabel='speed', ylabel='dist'>"
      ]
     },
     "execution_count": 39,
     "metadata": {},
     "output_type": "execute_result"
    },
    {
     "data": {
      "image/png": "[encoded data removed]",
      "text/plain": [
       "<Figure size 640x480 with 1 Axes>"
      ]
     },
     "metadata": {},
     "output_type": "display_data"
    }
   ],
   "source": [
    "# 실습\n",
    "# 속도 'speed'를 독립변수(x), 제동거리 'dist'를 종속변수(y)로 분석 => 'dist ~ speed'\n",
    "sns.regplot(x='speed', y='dist', data=sp)"
   ]
  },
  {
   "cell_type": "code",
   "execution_count": 40,
   "id": "21d055b0",
   "metadata": {},
   "outputs": [
    {
     "data": {
      "text/html": [
       "<table class=\"simpletable\">\n",
       "<caption>OLS Regression Results</caption>\n",
       "<tr>\n",
       "  <th>Dep. Variable:</th>          <td>dist</td>       <th>  R-squared:         </th> <td>   0.651</td>\n",
       "</tr>\n",
       "<tr>\n",
       "  <th>Model:</th>                   <td>OLS</td>       <th>  Adj. R-squared:    </th> <td>   0.644</td>\n",
       "</tr>\n",
       "<tr>\n",
       "  <th>Method:</th>             <td>Least Squares</td>  <th>  F-statistic:       </th> <td>   89.57</td>\n",
       "</tr>\n",
       "<tr>\n",
       "  <th>Date:</th>             <td>Thu, 16 Feb 2023</td> <th>  Prob (F-statistic):</th> <td>1.49e-12</td>\n",
       "</tr>\n",
       "<tr>\n",
       "  <th>Time:</th>                 <td>15:21:30</td>     <th>  Log-Likelihood:    </th> <td> -206.58</td>\n",
       "</tr>\n",
       "<tr>\n",
       "  <th>No. Observations:</th>      <td>    50</td>      <th>  AIC:               </th> <td>   417.2</td>\n",
       "</tr>\n",
       "<tr>\n",
       "  <th>Df Residuals:</th>          <td>    48</td>      <th>  BIC:               </th> <td>   421.0</td>\n",
       "</tr>\n",
       "<tr>\n",
       "  <th>Df Model:</th>              <td>     1</td>      <th>                     </th>     <td> </td>   \n",
       "</tr>\n",
       "<tr>\n",
       "  <th>Covariance Type:</th>      <td>nonrobust</td>    <th>                     </th>     <td> </td>   \n",
       "</tr>\n",
       "</table>\n",
       "<table class=\"simpletable\">\n",
       "<tr>\n",
       "      <td></td>         <th>coef</th>     <th>std err</th>      <th>t</th>      <th>P>|t|</th>  <th>[0.025</th>    <th>0.975]</th>  \n",
       "</tr>\n",
       "<tr>\n",
       "  <th>Intercept</th> <td>  -17.5791</td> <td>    6.758</td> <td>   -2.601</td> <td> 0.012</td> <td>  -31.168</td> <td>   -3.990</td>\n",
       "</tr>\n",
       "<tr>\n",
       "  <th>speed</th>     <td>    3.9324</td> <td>    0.416</td> <td>    9.464</td> <td> 0.000</td> <td>    3.097</td> <td>    4.768</td>\n",
       "</tr>\n",
       "</table>\n",
       "<table class=\"simpletable\">\n",
       "<tr>\n",
       "  <th>Omnibus:</th>       <td> 8.975</td> <th>  Durbin-Watson:     </th> <td>   1.676</td>\n",
       "</tr>\n",
       "<tr>\n",
       "  <th>Prob(Omnibus):</th> <td> 0.011</td> <th>  Jarque-Bera (JB):  </th> <td>   8.189</td>\n",
       "</tr>\n",
       "<tr>\n",
       "  <th>Skew:</th>          <td> 0.885</td> <th>  Prob(JB):          </th> <td>  0.0167</td>\n",
       "</tr>\n",
       "<tr>\n",
       "  <th>Kurtosis:</th>      <td> 3.893</td> <th>  Cond. No.          </th> <td>    50.7</td>\n",
       "</tr>\n",
       "</table><br/><br/>Notes:<br/>[1] Standard Errors assume that the covariance matrix of the errors is correctly specified."
      ],
      "text/plain": [
       "<class 'statsmodels.iolib.summary.Summary'>\n",
       "\"\"\"\n",
       "                            OLS Regression Results                            \n",
       "==============================================================================\n",
       "Dep. Variable:                   dist   R-squared:                       0.651\n",
       "Model:                            OLS   Adj. R-squared:                  0.644\n",
       "Method:                 Least Squares   F-statistic:                     89.57\n",
       "Date:                Thu, 16 Feb 2023   Prob (F-statistic):           1.49e-12\n",
       "Time:                        15:21:30   Log-Likelihood:                -206.58\n",
       "No. Observations:                  50   AIC:                             417.2\n",
       "Df Residuals:                      48   BIC:                             421.0\n",
       "Df Model:                           1                                         \n",
       "Covariance Type:            nonrobust                                         \n",
       "==============================================================================\n",
       "                 coef    std err          t      P>|t|      [0.025      0.975]\n",
       "------------------------------------------------------------------------------\n",
       "Intercept    -17.5791      6.758     -2.601      0.012     -31.168      -3.990\n",
       "speed          3.9324      0.416      9.464      0.000       3.097       4.768\n",
       "==============================================================================\n",
       "Omnibus:                        8.975   Durbin-Watson:                   1.676\n",
       "Prob(Omnibus):                  0.011   Jarque-Bera (JB):                8.189\n",
       "Skew:                           0.885   Prob(JB):                       0.0167\n",
       "Kurtosis:                       3.893   Cond. No.                         50.7\n",
       "==============================================================================\n",
       "\n",
       "Notes:\n",
       "[1] Standard Errors assume that the covariance matrix of the errors is correctly specified.\n",
       "\"\"\""
      ]
     },
     "execution_count": 40,
     "metadata": {},
     "output_type": "execute_result"
    }
   ],
   "source": [
    "d = ols('dist ~ speed', sp).fit()\n",
    "d.summary()"
   ]
  },
  {
   "cell_type": "code",
   "execution_count": 46,
   "id": "f2cf364c",
   "metadata": {},
   "outputs": [
    {
     "data": {
      "text/plain": [
       "0    21.744993\n",
       "dtype: float64"
      ]
     },
     "execution_count": 46,
     "metadata": {},
     "output_type": "execute_result"
    }
   ],
   "source": [
    "d.predict({'speed':10})"
   ]
  },
  {
   "cell_type": "code",
   "execution_count": 47,
   "id": "bb1d68fb",
   "metadata": {},
   "outputs": [
    {
     "data": {
      "text/html": [
       "<table class=\"simpletable\">\n",
       "<caption>OLS Regression Results</caption>\n",
       "<tr>\n",
       "  <th>Dep. Variable:</th>          <td>price</td>      <th>  R-squared:         </th> <td>   0.749</td>\n",
       "</tr>\n",
       "<tr>\n",
       "  <th>Model:</th>                   <td>OLS</td>       <th>  Adj. R-squared:    </th> <td>   0.747</td>\n",
       "</tr>\n",
       "<tr>\n",
       "  <th>Method:</th>             <td>Least Squares</td>  <th>  F-statistic:       </th> <td>   403.5</td>\n",
       "</tr>\n",
       "<tr>\n",
       "  <th>Date:</th>             <td>Thu, 16 Feb 2023</td> <th>  Prob (F-statistic):</th> <td>5.62e-82</td>\n",
       "</tr>\n",
       "<tr>\n",
       "  <th>Time:</th>                 <td>16:14:33</td>     <th>  Log-Likelihood:    </th> <td> -1790.2</td>\n",
       "</tr>\n",
       "<tr>\n",
       "  <th>No. Observations:</th>      <td>   274</td>      <th>  AIC:               </th> <td>   3586.</td>\n",
       "</tr>\n",
       "<tr>\n",
       "  <th>Df Residuals:</th>          <td>   271</td>      <th>  BIC:               </th> <td>   3597.</td>\n",
       "</tr>\n",
       "<tr>\n",
       "  <th>Df Model:</th>              <td>     2</td>      <th>                     </th>     <td> </td>   \n",
       "</tr>\n",
       "<tr>\n",
       "  <th>Covariance Type:</th>      <td>nonrobust</td>    <th>                     </th>     <td> </td>   \n",
       "</tr>\n",
       "</table>\n",
       "<table class=\"simpletable\">\n",
       "<tr>\n",
       "      <td></td>         <th>coef</th>     <th>std err</th>      <th>t</th>      <th>P>|t|</th>  <th>[0.025</th>    <th>0.975]</th>  \n",
       "</tr>\n",
       "<tr>\n",
       "  <th>Intercept</th> <td>-1.688e+05</td> <td> 9597.865</td> <td>  -17.592</td> <td> 0.000</td> <td>-1.88e+05</td> <td> -1.5e+05</td>\n",
       "</tr>\n",
       "<tr>\n",
       "  <th>mileage</th>   <td>   -0.0023</td> <td>    0.000</td> <td>   -8.143</td> <td> 0.000</td> <td>   -0.003</td> <td>   -0.002</td>\n",
       "</tr>\n",
       "<tr>\n",
       "  <th>year</th>      <td>   84.3822</td> <td>    4.761</td> <td>   17.724</td> <td> 0.000</td> <td>   75.009</td> <td>   93.755</td>\n",
       "</tr>\n",
       "</table>\n",
       "<table class=\"simpletable\">\n",
       "<tr>\n",
       "  <th>Omnibus:</th>       <td>11.272</td> <th>  Durbin-Watson:     </th> <td>   1.598</td>\n",
       "</tr>\n",
       "<tr>\n",
       "  <th>Prob(Omnibus):</th> <td> 0.004</td> <th>  Jarque-Bera (JB):  </th> <td>  11.786</td>\n",
       "</tr>\n",
       "<tr>\n",
       "  <th>Skew:</th>          <td> 0.435</td> <th>  Prob(JB):          </th> <td> 0.00276</td>\n",
       "</tr>\n",
       "<tr>\n",
       "  <th>Kurtosis:</th>      <td> 3.523</td> <th>  Cond. No.          </th> <td>8.41e+07</td>\n",
       "</tr>\n",
       "</table><br/><br/>Notes:<br/>[1] Standard Errors assume that the covariance matrix of the errors is correctly specified.<br/>[2] The condition number is large, 8.41e+07. This might indicate that there are<br/>strong multicollinearity or other numerical problems."
      ],
      "text/plain": [
       "<class 'statsmodels.iolib.summary.Summary'>\n",
       "\"\"\"\n",
       "                            OLS Regression Results                            \n",
       "==============================================================================\n",
       "Dep. Variable:                  price   R-squared:                       0.749\n",
       "Model:                            OLS   Adj. R-squared:                  0.747\n",
       "Method:                 Least Squares   F-statistic:                     403.5\n",
       "Date:                Thu, 16 Feb 2023   Prob (F-statistic):           5.62e-82\n",
       "Time:                        16:14:33   Log-Likelihood:                -1790.2\n",
       "No. Observations:                 274   AIC:                             3586.\n",
       "Df Residuals:                     271   BIC:                             3597.\n",
       "Df Model:                           2                                         \n",
       "Covariance Type:            nonrobust                                         \n",
       "==============================================================================\n",
       "                 coef    std err          t      P>|t|      [0.025      0.975]\n",
       "------------------------------------------------------------------------------\n",
       "Intercept  -1.688e+05   9597.865    -17.592      0.000   -1.88e+05    -1.5e+05\n",
       "mileage       -0.0023      0.000     -8.143      0.000      -0.003      -0.002\n",
       "year          84.3822      4.761     17.724      0.000      75.009      93.755\n",
       "==============================================================================\n",
       "Omnibus:                       11.272   Durbin-Watson:                   1.598\n",
       "Prob(Omnibus):                  0.004   Jarque-Bera (JB):               11.786\n",
       "Skew:                           0.435   Prob(JB):                      0.00276\n",
       "Kurtosis:                       3.523   Cond. No.                     8.41e+07\n",
       "==============================================================================\n",
       "\n",
       "Notes:\n",
       "[1] Standard Errors assume that the covariance matrix of the errors is correctly specified.\n",
       "[2] The condition number is large, 8.41e+07. This might indicate that there are\n",
       "strong multicollinearity or other numerical problems.\n",
       "\"\"\""
      ]
     },
     "execution_count": 47,
     "metadata": {},
     "output_type": "execute_result"
    }
   ],
   "source": [
    "d = ols('price ~ mileage + year', df).fit()\n",
    "d.summary()\n",
    "# price = a            +  b * mileage + c * year\n",
    "#     -1.688e+5       -0.0023       +84.3822"
   ]
  },
  {
   "cell_type": "code",
   "execution_count": 48,
   "id": "81e70d88",
   "metadata": {},
   "outputs": [
    {
     "data": {
      "text/html": [
       "<table class=\"simpletable\">\n",
       "<caption>OLS Regression Results</caption>\n",
       "<tr>\n",
       "  <th>Dep. Variable:</th>          <td>price</td>      <th>  R-squared:         </th> <td>   0.749</td>\n",
       "</tr>\n",
       "<tr>\n",
       "  <th>Model:</th>                   <td>OLS</td>       <th>  Adj. R-squared:    </th> <td>   0.747</td>\n",
       "</tr>\n",
       "<tr>\n",
       "  <th>Method:</th>             <td>Least Squares</td>  <th>  F-statistic:       </th> <td>   403.5</td>\n",
       "</tr>\n",
       "<tr>\n",
       "  <th>Date:</th>             <td>Thu, 16 Feb 2023</td> <th>  Prob (F-statistic):</th> <td>5.62e-82</td>\n",
       "</tr>\n",
       "<tr>\n",
       "  <th>Time:</th>                 <td>16:33:25</td>     <th>  Log-Likelihood:    </th> <td> -1790.2</td>\n",
       "</tr>\n",
       "<tr>\n",
       "  <th>No. Observations:</th>      <td>   274</td>      <th>  AIC:               </th> <td>   3586.</td>\n",
       "</tr>\n",
       "<tr>\n",
       "  <th>Df Residuals:</th>          <td>   271</td>      <th>  BIC:               </th> <td>   3597.</td>\n",
       "</tr>\n",
       "<tr>\n",
       "  <th>Df Model:</th>              <td>     2</td>      <th>                     </th>     <td> </td>   \n",
       "</tr>\n",
       "<tr>\n",
       "  <th>Covariance Type:</th>      <td>nonrobust</td>    <th>                     </th>     <td> </td>   \n",
       "</tr>\n",
       "</table>\n",
       "<table class=\"simpletable\">\n",
       "<tr>\n",
       "         <td></td>           <th>coef</th>     <th>std err</th>      <th>t</th>      <th>P>|t|</th>  <th>[0.025</th>    <th>0.975]</th>  \n",
       "</tr>\n",
       "<tr>\n",
       "  <th>Intercept</th>      <td>  853.6606</td> <td>   10.112</td> <td>   84.419</td> <td> 0.000</td> <td>  833.752</td> <td>  873.569</td>\n",
       "</tr>\n",
       "<tr>\n",
       "  <th>scale(mileage)</th> <td> -100.2044</td> <td>   12.306</td> <td>   -8.143</td> <td> 0.000</td> <td> -124.431</td> <td>  -75.978</td>\n",
       "</tr>\n",
       "<tr>\n",
       "  <th>scale(year)</th>    <td>  218.1006</td> <td>   12.306</td> <td>   17.724</td> <td> 0.000</td> <td>  193.874</td> <td>  242.327</td>\n",
       "</tr>\n",
       "</table>\n",
       "<table class=\"simpletable\">\n",
       "<tr>\n",
       "  <th>Omnibus:</th>       <td>11.272</td> <th>  Durbin-Watson:     </th> <td>   1.598</td>\n",
       "</tr>\n",
       "<tr>\n",
       "  <th>Prob(Omnibus):</th> <td> 0.004</td> <th>  Jarque-Bera (JB):  </th> <td>  11.786</td>\n",
       "</tr>\n",
       "<tr>\n",
       "  <th>Skew:</th>          <td> 0.435</td> <th>  Prob(JB):          </th> <td> 0.00276</td>\n",
       "</tr>\n",
       "<tr>\n",
       "  <th>Kurtosis:</th>      <td> 3.523</td> <th>  Cond. No.          </th> <td>    1.91</td>\n",
       "</tr>\n",
       "</table><br/><br/>Notes:<br/>[1] Standard Errors assume that the covariance matrix of the errors is correctly specified."
      ],
      "text/plain": [
       "<class 'statsmodels.iolib.summary.Summary'>\n",
       "\"\"\"\n",
       "                            OLS Regression Results                            \n",
       "==============================================================================\n",
       "Dep. Variable:                  price   R-squared:                       0.749\n",
       "Model:                            OLS   Adj. R-squared:                  0.747\n",
       "Method:                 Least Squares   F-statistic:                     403.5\n",
       "Date:                Thu, 16 Feb 2023   Prob (F-statistic):           5.62e-82\n",
       "Time:                        16:33:25   Log-Likelihood:                -1790.2\n",
       "No. Observations:                 274   AIC:                             3586.\n",
       "Df Residuals:                     271   BIC:                             3597.\n",
       "Df Model:                           2                                         \n",
       "Covariance Type:            nonrobust                                         \n",
       "==================================================================================\n",
       "                     coef    std err          t      P>|t|      [0.025      0.975]\n",
       "----------------------------------------------------------------------------------\n",
       "Intercept        853.6606     10.112     84.419      0.000     833.752     873.569\n",
       "scale(mileage)  -100.2044     12.306     -8.143      0.000    -124.431     -75.978\n",
       "scale(year)      218.1006     12.306     17.724      0.000     193.874     242.327\n",
       "==============================================================================\n",
       "Omnibus:                       11.272   Durbin-Watson:                   1.598\n",
       "Prob(Omnibus):                  0.004   Jarque-Bera (JB):               11.786\n",
       "Skew:                           0.435   Prob(JB):                      0.00276\n",
       "Kurtosis:                       3.523   Cond. No.                         1.91\n",
       "==============================================================================\n",
       "\n",
       "Notes:\n",
       "[1] Standard Errors assume that the covariance matrix of the errors is correctly specified.\n",
       "\"\"\""
      ]
     },
     "execution_count": 48,
     "metadata": {},
     "output_type": "execute_result"
    }
   ],
   "source": [
    "# 표준화\n",
    "d = ols('price ~ scale(mileage) + scale(year)', df).fit() \n",
    "d.summary()\n",
    "# R제곱이 변하진 않음\n",
    "# 기울기가 변화 => 주행거리는/연식은 1 표준편차만큼 변할 때 100.2044 만원씩 감소, 연식은 218.1006 만원씩 증가 "
   ]
  },
  {
   "cell_type": "code",
   "execution_count": 51,
   "id": "c902710f",
   "metadata": {},
   "outputs": [
    {
     "data": {
      "text/html": [
       "<div>\n",
       "<style scoped>\n",
       "    .dataframe tbody tr th:only-of-type {\n",
       "        vertical-align: middle;\n",
       "    }\n",
       "\n",
       "    .dataframe tbody tr th {\n",
       "        vertical-align: top;\n",
       "    }\n",
       "\n",
       "    .dataframe thead th {\n",
       "        text-align: right;\n",
       "    }\n",
       "</style>\n",
       "<table border=\"1\" class=\"dataframe\">\n",
       "  <thead>\n",
       "    <tr style=\"text-align: right;\">\n",
       "      <th></th>\n",
       "      <th>mileage</th>\n",
       "      <th>price</th>\n",
       "      <th>year</th>\n",
       "      <th>my_car_damage</th>\n",
       "      <th>other_car_damage</th>\n",
       "    </tr>\n",
       "  </thead>\n",
       "  <tbody>\n",
       "    <tr>\n",
       "      <th>count</th>\n",
       "      <td>274.000000</td>\n",
       "      <td>274.000000</td>\n",
       "      <td>274.000000</td>\n",
       "      <td>2.740000e+02</td>\n",
       "      <td>2.740000e+02</td>\n",
       "    </tr>\n",
       "    <tr>\n",
       "      <th>mean</th>\n",
       "      <td>77483.222628</td>\n",
       "      <td>853.660584</td>\n",
       "      <td>2013.273723</td>\n",
       "      <td>2.319453e+06</td>\n",
       "      <td>1.807992e+06</td>\n",
       "    </tr>\n",
       "    <tr>\n",
       "      <th>std</th>\n",
       "      <td>43015.794453</td>\n",
       "      <td>332.613127</td>\n",
       "      <td>2.589406</td>\n",
       "      <td>3.080107e+06</td>\n",
       "      <td>4.655390e+06</td>\n",
       "    </tr>\n",
       "    <tr>\n",
       "      <th>min</th>\n",
       "      <td>2287.000000</td>\n",
       "      <td>190.000000</td>\n",
       "      <td>2006.000000</td>\n",
       "      <td>0.000000e+00</td>\n",
       "      <td>0.000000e+00</td>\n",
       "    </tr>\n",
       "    <tr>\n",
       "      <th>25%</th>\n",
       "      <td>47597.500000</td>\n",
       "      <td>620.000000</td>\n",
       "      <td>2011.000000</td>\n",
       "      <td>0.000000e+00</td>\n",
       "      <td>0.000000e+00</td>\n",
       "    </tr>\n",
       "    <tr>\n",
       "      <th>50%</th>\n",
       "      <td>71649.000000</td>\n",
       "      <td>805.000000</td>\n",
       "      <td>2014.000000</td>\n",
       "      <td>1.100410e+06</td>\n",
       "      <td>3.986190e+05</td>\n",
       "    </tr>\n",
       "    <tr>\n",
       "      <th>75%</th>\n",
       "      <td>103193.750000</td>\n",
       "      <td>1090.000000</td>\n",
       "      <td>2015.000000</td>\n",
       "      <td>3.002840e+06</td>\n",
       "      <td>1.640666e+06</td>\n",
       "    </tr>\n",
       "    <tr>\n",
       "      <th>max</th>\n",
       "      <td>310000.000000</td>\n",
       "      <td>1820.000000</td>\n",
       "      <td>2018.000000</td>\n",
       "      <td>1.536732e+07</td>\n",
       "      <td>5.510890e+07</td>\n",
       "    </tr>\n",
       "  </tbody>\n",
       "</table>\n",
       "</div>"
      ],
      "text/plain": [
       "             mileage        price         year  my_car_damage  \\\n",
       "count     274.000000   274.000000   274.000000   2.740000e+02   \n",
       "mean    77483.222628   853.660584  2013.273723   2.319453e+06   \n",
       "std     43015.794453   332.613127     2.589406   3.080107e+06   \n",
       "min      2287.000000   190.000000  2006.000000   0.000000e+00   \n",
       "25%     47597.500000   620.000000  2011.000000   0.000000e+00   \n",
       "50%     71649.000000   805.000000  2014.000000   1.100410e+06   \n",
       "75%    103193.750000  1090.000000  2015.000000   3.002840e+06   \n",
       "max    310000.000000  1820.000000  2018.000000   1.536732e+07   \n",
       "\n",
       "       other_car_damage  \n",
       "count      2.740000e+02  \n",
       "mean       1.807992e+06  \n",
       "std        4.655390e+06  \n",
       "min        0.000000e+00  \n",
       "25%        0.000000e+00  \n",
       "50%        3.986190e+05  \n",
       "75%        1.640666e+06  \n",
       "max        5.510890e+07  "
      ]
     },
     "execution_count": 51,
     "metadata": {},
     "output_type": "execute_result"
    }
   ],
   "source": [
    "# 각각의 표준편차로 나누는 것\n",
    "df.describe()"
   ]
  },
  {
   "cell_type": "code",
   "execution_count": 49,
   "id": "bbbe269d",
   "metadata": {},
   "outputs": [
    {
     "data": {
      "text/html": [
       "<table class=\"simpletable\">\n",
       "<caption>OLS Regression Results</caption>\n",
       "<tr>\n",
       "  <th>Dep. Variable:</th>          <td>price</td>      <th>  R-squared:         </th> <td>   0.775</td>\n",
       "</tr>\n",
       "<tr>\n",
       "  <th>Model:</th>                   <td>OLS</td>       <th>  Adj. R-squared:    </th> <td>   0.774</td>\n",
       "</tr>\n",
       "<tr>\n",
       "  <th>Method:</th>             <td>Least Squares</td>  <th>  F-statistic:       </th> <td>   467.7</td>\n",
       "</tr>\n",
       "<tr>\n",
       "  <th>Date:</th>             <td>Thu, 16 Feb 2023</td> <th>  Prob (F-statistic):</th> <td>1.33e-88</td>\n",
       "</tr>\n",
       "<tr>\n",
       "  <th>Time:</th>                 <td>16:47:51</td>     <th>  Log-Likelihood:    </th> <td> -1774.8</td>\n",
       "</tr>\n",
       "<tr>\n",
       "  <th>No. Observations:</th>      <td>   274</td>      <th>  AIC:               </th> <td>   3556.</td>\n",
       "</tr>\n",
       "<tr>\n",
       "  <th>Df Residuals:</th>          <td>   271</td>      <th>  BIC:               </th> <td>   3566.</td>\n",
       "</tr>\n",
       "<tr>\n",
       "  <th>Df Model:</th>              <td>     2</td>      <th>                     </th>     <td> </td>   \n",
       "</tr>\n",
       "<tr>\n",
       "  <th>Covariance Type:</th>      <td>nonrobust</td>    <th>                     </th>     <td> </td>   \n",
       "</tr>\n",
       "</table>\n",
       "<table class=\"simpletable\">\n",
       "<tr>\n",
       "         <td></td>           <th>coef</th>     <th>std err</th>      <th>t</th>      <th>P>|t|</th>  <th>[0.025</th>    <th>0.975]</th>  \n",
       "</tr>\n",
       "<tr>\n",
       "  <th>Intercept</th>      <td>  659.2814</td> <td>   36.926</td> <td>   17.854</td> <td> 0.000</td> <td>  586.582</td> <td>  731.981</td>\n",
       "</tr>\n",
       "<tr>\n",
       "  <th>mileage.rank()</th> <td>   -1.3652</td> <td>    0.146</td> <td>   -9.346</td> <td> 0.000</td> <td>   -1.653</td> <td>   -1.078</td>\n",
       "</tr>\n",
       "<tr>\n",
       "  <th>year.rank()</th>    <td>    2.7789</td> <td>    0.147</td> <td>   18.843</td> <td> 0.000</td> <td>    2.489</td> <td>    3.069</td>\n",
       "</tr>\n",
       "</table>\n",
       "<table class=\"simpletable\">\n",
       "<tr>\n",
       "  <th>Omnibus:</th>       <td> 2.652</td> <th>  Durbin-Watson:     </th> <td>   1.756</td>\n",
       "</tr>\n",
       "<tr>\n",
       "  <th>Prob(Omnibus):</th> <td> 0.266</td> <th>  Jarque-Bera (JB):  </th> <td>   2.440</td>\n",
       "</tr>\n",
       "<tr>\n",
       "  <th>Skew:</th>          <td> 0.139</td> <th>  Prob(JB):          </th> <td>   0.295</td>\n",
       "</tr>\n",
       "<tr>\n",
       "  <th>Kurtosis:</th>      <td> 3.369</td> <th>  Cond. No.          </th> <td>    778.</td>\n",
       "</tr>\n",
       "</table><br/><br/>Notes:<br/>[1] Standard Errors assume that the covariance matrix of the errors is correctly specified."
      ],
      "text/plain": [
       "<class 'statsmodels.iolib.summary.Summary'>\n",
       "\"\"\"\n",
       "                            OLS Regression Results                            \n",
       "==============================================================================\n",
       "Dep. Variable:                  price   R-squared:                       0.775\n",
       "Model:                            OLS   Adj. R-squared:                  0.774\n",
       "Method:                 Least Squares   F-statistic:                     467.7\n",
       "Date:                Thu, 16 Feb 2023   Prob (F-statistic):           1.33e-88\n",
       "Time:                        16:47:51   Log-Likelihood:                -1774.8\n",
       "No. Observations:                 274   AIC:                             3556.\n",
       "Df Residuals:                     271   BIC:                             3566.\n",
       "Df Model:                           2                                         \n",
       "Covariance Type:            nonrobust                                         \n",
       "==================================================================================\n",
       "                     coef    std err          t      P>|t|      [0.025      0.975]\n",
       "----------------------------------------------------------------------------------\n",
       "Intercept        659.2814     36.926     17.854      0.000     586.582     731.981\n",
       "mileage.rank()    -1.3652      0.146     -9.346      0.000      -1.653      -1.078\n",
       "year.rank()        2.7789      0.147     18.843      0.000       2.489       3.069\n",
       "==============================================================================\n",
       "Omnibus:                        2.652   Durbin-Watson:                   1.756\n",
       "Prob(Omnibus):                  0.266   Jarque-Bera (JB):                2.440\n",
       "Skew:                           0.139   Prob(JB):                        0.295\n",
       "Kurtosis:                       3.369   Cond. No.                         778.\n",
       "==============================================================================\n",
       "\n",
       "Notes:\n",
       "[1] Standard Errors assume that the covariance matrix of the errors is correctly specified.\n",
       "\"\"\""
      ]
     },
     "execution_count": 49,
     "metadata": {},
     "output_type": "execute_result"
    }
   ],
   "source": [
    "m = ols('price ~ mileage.rank() + year.rank()', df).fit()\n",
    "m.summary()\n",
    "# 등수로 바꾸는 것: 장점 -> 너무 튀는 숫자가 있을 때 완화시켜준다\n",
    "#                  단점 -> 원래 값을 알 수 없음(원래값->등수 O, 등수 ->원래값X)\n",
    "#                  단점 -> 1등보다 잘하거나, 꼴등보다 못하면 예측"
   ]
  },
  {
   "cell_type": "code",
   "execution_count": 50,
   "id": "f59754fd",
   "metadata": {},
   "outputs": [
    {
     "data": {
      "text/html": [
       "<table class=\"simpletable\">\n",
       "<caption>OLS Regression Results</caption>\n",
       "<tr>\n",
       "  <th>Dep. Variable:</th>          <td>price</td>      <th>  R-squared:         </th> <td>   0.749</td>\n",
       "</tr>\n",
       "<tr>\n",
       "  <th>Model:</th>                   <td>OLS</td>       <th>  Adj. R-squared:    </th> <td>   0.747</td>\n",
       "</tr>\n",
       "<tr>\n",
       "  <th>Method:</th>             <td>Least Squares</td>  <th>  F-statistic:       </th> <td>   403.5</td>\n",
       "</tr>\n",
       "<tr>\n",
       "  <th>Date:</th>             <td>Thu, 16 Feb 2023</td> <th>  Prob (F-statistic):</th> <td>5.62e-82</td>\n",
       "</tr>\n",
       "<tr>\n",
       "  <th>Time:</th>                 <td>16:47:58</td>     <th>  Log-Likelihood:    </th> <td> -1790.2</td>\n",
       "</tr>\n",
       "<tr>\n",
       "  <th>No. Observations:</th>      <td>   274</td>      <th>  AIC:               </th> <td>   3586.</td>\n",
       "</tr>\n",
       "<tr>\n",
       "  <th>Df Residuals:</th>          <td>   271</td>      <th>  BIC:               </th> <td>   3597.</td>\n",
       "</tr>\n",
       "<tr>\n",
       "  <th>Df Model:</th>              <td>     2</td>      <th>                     </th>     <td> </td>   \n",
       "</tr>\n",
       "<tr>\n",
       "  <th>Covariance Type:</th>      <td>nonrobust</td>    <th>                     </th>     <td> </td>   \n",
       "</tr>\n",
       "</table>\n",
       "<table class=\"simpletable\">\n",
       "<tr>\n",
       "                <td></td>                  <th>coef</th>     <th>std err</th>      <th>t</th>      <th>P>|t|</th>  <th>[0.025</th>    <th>0.975]</th>  \n",
       "</tr>\n",
       "<tr>\n",
       "  <th>Intercept</th>                    <td>  415.3767</td> <td>   51.152</td> <td>    8.120</td> <td> 0.000</td> <td>  314.671</td> <td>  516.082</td>\n",
       "</tr>\n",
       "<tr>\n",
       "  <th>I((mileage - 2287) / 307713)</th> <td> -718.1230</td> <td>   88.189</td> <td>   -8.143</td> <td> 0.000</td> <td> -891.746</td> <td> -544.500</td>\n",
       "</tr>\n",
       "<tr>\n",
       "  <th>I((year - 2006) / 12)</th>        <td> 1012.5860</td> <td>   57.132</td> <td>   17.724</td> <td> 0.000</td> <td>  900.107</td> <td> 1125.065</td>\n",
       "</tr>\n",
       "</table>\n",
       "<table class=\"simpletable\">\n",
       "<tr>\n",
       "  <th>Omnibus:</th>       <td>11.272</td> <th>  Durbin-Watson:     </th> <td>   1.598</td>\n",
       "</tr>\n",
       "<tr>\n",
       "  <th>Prob(Omnibus):</th> <td> 0.004</td> <th>  Jarque-Bera (JB):  </th> <td>  11.786</td>\n",
       "</tr>\n",
       "<tr>\n",
       "  <th>Skew:</th>          <td> 0.435</td> <th>  Prob(JB):          </th> <td> 0.00276</td>\n",
       "</tr>\n",
       "<tr>\n",
       "  <th>Kurtosis:</th>      <td> 3.523</td> <th>  Cond. No.          </th> <td>    12.7</td>\n",
       "</tr>\n",
       "</table><br/><br/>Notes:<br/>[1] Standard Errors assume that the covariance matrix of the errors is correctly specified."
      ],
      "text/plain": [
       "<class 'statsmodels.iolib.summary.Summary'>\n",
       "\"\"\"\n",
       "                            OLS Regression Results                            \n",
       "==============================================================================\n",
       "Dep. Variable:                  price   R-squared:                       0.749\n",
       "Model:                            OLS   Adj. R-squared:                  0.747\n",
       "Method:                 Least Squares   F-statistic:                     403.5\n",
       "Date:                Thu, 16 Feb 2023   Prob (F-statistic):           5.62e-82\n",
       "Time:                        16:47:58   Log-Likelihood:                -1790.2\n",
       "No. Observations:                 274   AIC:                             3586.\n",
       "Df Residuals:                     271   BIC:                             3597.\n",
       "Df Model:                           2                                         \n",
       "Covariance Type:            nonrobust                                         \n",
       "================================================================================================\n",
       "                                   coef    std err          t      P>|t|      [0.025      0.975]\n",
       "------------------------------------------------------------------------------------------------\n",
       "Intercept                      415.3767     51.152      8.120      0.000     314.671     516.082\n",
       "I((mileage - 2287) / 307713)  -718.1230     88.189     -8.143      0.000    -891.746    -544.500\n",
       "I((year - 2006) / 12)         1012.5860     57.132     17.724      0.000     900.107    1125.065\n",
       "==============================================================================\n",
       "Omnibus:                       11.272   Durbin-Watson:                   1.598\n",
       "Prob(Omnibus):                  0.004   Jarque-Bera (JB):               11.786\n",
       "Skew:                           0.435   Prob(JB):                      0.00276\n",
       "Kurtosis:                       3.523   Cond. No.                         12.7\n",
       "==============================================================================\n",
       "\n",
       "Notes:\n",
       "[1] Standard Errors assume that the covariance matrix of the errors is correctly specified.\n",
       "\"\"\""
      ]
     },
     "execution_count": 50,
     "metadata": {},
     "output_type": "execute_result"
    }
   ],
   "source": [
    "# min-max scaling 또는 normalization\n",
    "# 단위를 없애주는 다른 방법: 최소값 = 0, 최대값 = 1\n",
    "m = ols('price ~ I((mileage-2287)/307713) + I((year-2006)/12)', df).fit()\n",
    "m.summary()\n",
    "# 단점: 극단값이 있는 경우에 약함"
   ]
  },
  {
   "cell_type": "code",
   "execution_count": null,
   "id": "118d2963",
   "metadata": {},
   "outputs": [],
   "source": []
  },
  {
   "cell_type": "code",
   "execution_count": null,
   "id": "c92a8ede",
   "metadata": {},
   "outputs": [],
   "source": []
  },
  {
   "cell_type": "code",
   "execution_count": 52,
   "id": "c4659496",
   "metadata": {},
   "outputs": [
    {
     "data": {
      "text/html": [
       "<div>\n",
       "<style scoped>\n",
       "    .dataframe tbody tr th:only-of-type {\n",
       "        vertical-align: middle;\n",
       "    }\n",
       "\n",
       "    .dataframe tbody tr th {\n",
       "        vertical-align: top;\n",
       "    }\n",
       "\n",
       "    .dataframe thead th {\n",
       "        text-align: right;\n",
       "    }\n",
       "</style>\n",
       "<table border=\"1\" class=\"dataframe\">\n",
       "  <thead>\n",
       "    <tr style=\"text-align: right;\">\n",
       "      <th></th>\n",
       "      <th>PIQ</th>\n",
       "      <th>Brain</th>\n",
       "      <th>Height</th>\n",
       "      <th>Weight</th>\n",
       "    </tr>\n",
       "  </thead>\n",
       "  <tbody>\n",
       "    <tr>\n",
       "      <th>0</th>\n",
       "      <td>124</td>\n",
       "      <td>81.69</td>\n",
       "      <td>64.5</td>\n",
       "      <td>118</td>\n",
       "    </tr>\n",
       "    <tr>\n",
       "      <th>1</th>\n",
       "      <td>150</td>\n",
       "      <td>103.84</td>\n",
       "      <td>73.3</td>\n",
       "      <td>143</td>\n",
       "    </tr>\n",
       "    <tr>\n",
       "      <th>2</th>\n",
       "      <td>128</td>\n",
       "      <td>96.54</td>\n",
       "      <td>68.8</td>\n",
       "      <td>172</td>\n",
       "    </tr>\n",
       "    <tr>\n",
       "      <th>3</th>\n",
       "      <td>134</td>\n",
       "      <td>95.15</td>\n",
       "      <td>65.0</td>\n",
       "      <td>147</td>\n",
       "    </tr>\n",
       "    <tr>\n",
       "      <th>4</th>\n",
       "      <td>110</td>\n",
       "      <td>92.88</td>\n",
       "      <td>69.0</td>\n",
       "      <td>146</td>\n",
       "    </tr>\n",
       "  </tbody>\n",
       "</table>\n",
       "</div>"
      ],
      "text/plain": [
       "   PIQ   Brain  Height  Weight\n",
       "0  124   81.69    64.5     118\n",
       "1  150  103.84    73.3     143\n",
       "2  128   96.54    68.8     172\n",
       "3  134   95.15    65.0     147\n",
       "4  110   92.88    69.0     146"
      ]
     },
     "execution_count": 52,
     "metadata": {},
     "output_type": "execute_result"
    }
   ],
   "source": [
    "# 퀴즈\n",
    "iq = pd.read_excel('data/iqsize.xlsx')\n",
    "iq.head()\n",
    "# PIQ: 동작성 지능\n",
    "# Brain: 두뇌의 크기(부피)\n",
    "# Height: 키\n",
    "# Weight: 체중"
   ]
  },
  {
   "cell_type": "code",
   "execution_count": 56,
   "id": "9eae083a",
   "metadata": {},
   "outputs": [
    {
     "data": {
      "text/html": [
       "<table class=\"simpletable\">\n",
       "<caption>OLS Regression Results</caption>\n",
       "<tr>\n",
       "  <th>Dep. Variable:</th>           <td>PIQ</td>       <th>  R-squared:         </th> <td>   0.018</td>\n",
       "</tr>\n",
       "<tr>\n",
       "  <th>Model:</th>                   <td>OLS</td>       <th>  Adj. R-squared:    </th> <td>  -0.038</td>\n",
       "</tr>\n",
       "<tr>\n",
       "  <th>Method:</th>             <td>Least Squares</td>  <th>  F-statistic:       </th> <td>  0.3144</td>\n",
       "</tr>\n",
       "<tr>\n",
       "  <th>Date:</th>             <td>Thu, 16 Feb 2023</td> <th>  Prob (F-statistic):</th>  <td> 0.732</td> \n",
       "</tr>\n",
       "<tr>\n",
       "  <th>Time:</th>                 <td>17:06:30</td>     <th>  Log-Likelihood:    </th> <td> -171.55</td>\n",
       "</tr>\n",
       "<tr>\n",
       "  <th>No. Observations:</th>      <td>    38</td>      <th>  AIC:               </th> <td>   349.1</td>\n",
       "</tr>\n",
       "<tr>\n",
       "  <th>Df Residuals:</th>          <td>    35</td>      <th>  BIC:               </th> <td>   354.0</td>\n",
       "</tr>\n",
       "<tr>\n",
       "  <th>Df Model:</th>              <td>     2</td>      <th>                     </th>     <td> </td>   \n",
       "</tr>\n",
       "<tr>\n",
       "  <th>Covariance Type:</th>      <td>nonrobust</td>    <th>                     </th>     <td> </td>   \n",
       "</tr>\n",
       "</table>\n",
       "<table class=\"simpletable\">\n",
       "<tr>\n",
       "      <td></td>         <th>coef</th>     <th>std err</th>      <th>t</th>      <th>P>|t|</th>  <th>[0.025</th>    <th>0.975]</th>  \n",
       "</tr>\n",
       "<tr>\n",
       "  <th>Intercept</th> <td>  164.0402</td> <td>   71.316</td> <td>    2.300</td> <td> 0.028</td> <td>   19.260</td> <td>  308.820</td>\n",
       "</tr>\n",
       "<tr>\n",
       "  <th>Height</th>    <td>   -1.0519</td> <td>    1.327</td> <td>   -0.793</td> <td> 0.433</td> <td>   -3.745</td> <td>    1.641</td>\n",
       "</tr>\n",
       "<tr>\n",
       "  <th>Weight</th>    <td>    0.1276</td> <td>    0.226</td> <td>    0.565</td> <td> 0.575</td> <td>   -0.331</td> <td>    0.586</td>\n",
       "</tr>\n",
       "</table>\n",
       "<table class=\"simpletable\">\n",
       "<tr>\n",
       "  <th>Omnibus:</th>       <td> 6.646</td> <th>  Durbin-Watson:     </th> <td>   1.611</td>\n",
       "</tr>\n",
       "<tr>\n",
       "  <th>Prob(Omnibus):</th> <td> 0.036</td> <th>  Jarque-Bera (JB):  </th> <td>   2.149</td>\n",
       "</tr>\n",
       "<tr>\n",
       "  <th>Skew:</th>          <td>-0.057</td> <th>  Prob(JB):          </th> <td>   0.341</td>\n",
       "</tr>\n",
       "<tr>\n",
       "  <th>Kurtosis:</th>      <td> 1.841</td> <th>  Cond. No.          </th> <td>3.19e+03</td>\n",
       "</tr>\n",
       "</table><br/><br/>Notes:<br/>[1] Standard Errors assume that the covariance matrix of the errors is correctly specified.<br/>[2] The condition number is large, 3.19e+03. This might indicate that there are<br/>strong multicollinearity or other numerical problems."
      ],
      "text/plain": [
       "<class 'statsmodels.iolib.summary.Summary'>\n",
       "\"\"\"\n",
       "                            OLS Regression Results                            \n",
       "==============================================================================\n",
       "Dep. Variable:                    PIQ   R-squared:                       0.018\n",
       "Model:                            OLS   Adj. R-squared:                 -0.038\n",
       "Method:                 Least Squares   F-statistic:                    0.3144\n",
       "Date:                Thu, 16 Feb 2023   Prob (F-statistic):              0.732\n",
       "Time:                        17:06:30   Log-Likelihood:                -171.55\n",
       "No. Observations:                  38   AIC:                             349.1\n",
       "Df Residuals:                      35   BIC:                             354.0\n",
       "Df Model:                           2                                         \n",
       "Covariance Type:            nonrobust                                         \n",
       "==============================================================================\n",
       "                 coef    std err          t      P>|t|      [0.025      0.975]\n",
       "------------------------------------------------------------------------------\n",
       "Intercept    164.0402     71.316      2.300      0.028      19.260     308.820\n",
       "Height        -1.0519      1.327     -0.793      0.433      -3.745       1.641\n",
       "Weight         0.1276      0.226      0.565      0.575      -0.331       0.586\n",
       "==============================================================================\n",
       "Omnibus:                        6.646   Durbin-Watson:                   1.611\n",
       "Prob(Omnibus):                  0.036   Jarque-Bera (JB):                2.149\n",
       "Skew:                          -0.057   Prob(JB):                        0.341\n",
       "Kurtosis:                       1.841   Cond. No.                     3.19e+03\n",
       "==============================================================================\n",
       "\n",
       "Notes:\n",
       "[1] Standard Errors assume that the covariance matrix of the errors is correctly specified.\n",
       "[2] The condition number is large, 3.19e+03. This might indicate that there are\n",
       "strong multicollinearity or other numerical problems.\n",
       "\"\"\""
      ]
     },
     "execution_count": 56,
     "metadata": {},
     "output_type": "execute_result"
    }
   ],
   "source": [
    "m = ols('PIQ ~ Height + Weight', iq).fit()\n",
    "m.summary()"
   ]
  },
  {
   "cell_type": "code",
   "execution_count": 57,
   "id": "c9d52f45",
   "metadata": {},
   "outputs": [
    {
     "data": {
      "text/html": [
       "<table class=\"simpletable\">\n",
       "<caption>OLS Regression Results</caption>\n",
       "<tr>\n",
       "  <th>Dep. Variable:</th>           <td>PIQ</td>       <th>  R-squared:         </th> <td>   0.295</td>\n",
       "</tr>\n",
       "<tr>\n",
       "  <th>Model:</th>                   <td>OLS</td>       <th>  Adj. R-squared:    </th> <td>   0.233</td>\n",
       "</tr>\n",
       "<tr>\n",
       "  <th>Method:</th>             <td>Least Squares</td>  <th>  F-statistic:       </th> <td>   4.741</td>\n",
       "</tr>\n",
       "<tr>\n",
       "  <th>Date:</th>             <td>Thu, 16 Feb 2023</td> <th>  Prob (F-statistic):</th>  <td>0.00722</td>\n",
       "</tr>\n",
       "<tr>\n",
       "  <th>Time:</th>                 <td>17:07:49</td>     <th>  Log-Likelihood:    </th> <td> -165.25</td>\n",
       "</tr>\n",
       "<tr>\n",
       "  <th>No. Observations:</th>      <td>    38</td>      <th>  AIC:               </th> <td>   338.5</td>\n",
       "</tr>\n",
       "<tr>\n",
       "  <th>Df Residuals:</th>          <td>    34</td>      <th>  BIC:               </th> <td>   345.1</td>\n",
       "</tr>\n",
       "<tr>\n",
       "  <th>Df Model:</th>              <td>     3</td>      <th>                     </th>     <td> </td>   \n",
       "</tr>\n",
       "<tr>\n",
       "  <th>Covariance Type:</th>      <td>nonrobust</td>    <th>                     </th>     <td> </td>   \n",
       "</tr>\n",
       "</table>\n",
       "<table class=\"simpletable\">\n",
       "<tr>\n",
       "      <td></td>         <th>coef</th>     <th>std err</th>      <th>t</th>      <th>P>|t|</th>  <th>[0.025</th>    <th>0.975]</th>  \n",
       "</tr>\n",
       "<tr>\n",
       "  <th>Intercept</th> <td>  111.3536</td> <td>   62.971</td> <td>    1.768</td> <td> 0.086</td> <td>  -16.619</td> <td>  239.326</td>\n",
       "</tr>\n",
       "<tr>\n",
       "  <th>Height</th>    <td>   -2.7319</td> <td>    1.229</td> <td>   -2.222</td> <td> 0.033</td> <td>   -5.230</td> <td>   -0.233</td>\n",
       "</tr>\n",
       "<tr>\n",
       "  <th>Weight</th>    <td>    0.0006</td> <td>    0.197</td> <td>    0.003</td> <td> 0.998</td> <td>   -0.400</td> <td>    0.401</td>\n",
       "</tr>\n",
       "<tr>\n",
       "  <th>Brain</th>     <td>    2.0604</td> <td>    0.563</td> <td>    3.657</td> <td> 0.001</td> <td>    0.915</td> <td>    3.205</td>\n",
       "</tr>\n",
       "</table>\n",
       "<table class=\"simpletable\">\n",
       "<tr>\n",
       "  <th>Omnibus:</th>       <td> 1.379</td> <th>  Durbin-Watson:     </th> <td>   1.827</td>\n",
       "</tr>\n",
       "<tr>\n",
       "  <th>Prob(Omnibus):</th> <td> 0.502</td> <th>  Jarque-Bera (JB):  </th> <td>   1.088</td>\n",
       "</tr>\n",
       "<tr>\n",
       "  <th>Skew:</th>          <td> 0.409</td> <th>  Prob(JB):          </th> <td>   0.580</td>\n",
       "</tr>\n",
       "<tr>\n",
       "  <th>Kurtosis:</th>      <td> 2.859</td> <th>  Cond. No.          </th> <td>3.73e+03</td>\n",
       "</tr>\n",
       "</table><br/><br/>Notes:<br/>[1] Standard Errors assume that the covariance matrix of the errors is correctly specified.<br/>[2] The condition number is large, 3.73e+03. This might indicate that there are<br/>strong multicollinearity or other numerical problems."
      ],
      "text/plain": [
       "<class 'statsmodels.iolib.summary.Summary'>\n",
       "\"\"\"\n",
       "                            OLS Regression Results                            \n",
       "==============================================================================\n",
       "Dep. Variable:                    PIQ   R-squared:                       0.295\n",
       "Model:                            OLS   Adj. R-squared:                  0.233\n",
       "Method:                 Least Squares   F-statistic:                     4.741\n",
       "Date:                Thu, 16 Feb 2023   Prob (F-statistic):            0.00722\n",
       "Time:                        17:07:49   Log-Likelihood:                -165.25\n",
       "No. Observations:                  38   AIC:                             338.5\n",
       "Df Residuals:                      34   BIC:                             345.1\n",
       "Df Model:                           3                                         \n",
       "Covariance Type:            nonrobust                                         \n",
       "==============================================================================\n",
       "                 coef    std err          t      P>|t|      [0.025      0.975]\n",
       "------------------------------------------------------------------------------\n",
       "Intercept    111.3536     62.971      1.768      0.086     -16.619     239.326\n",
       "Height        -2.7319      1.229     -2.222      0.033      -5.230      -0.233\n",
       "Weight         0.0006      0.197      0.003      0.998      -0.400       0.401\n",
       "Brain          2.0604      0.563      3.657      0.001       0.915       3.205\n",
       "==============================================================================\n",
       "Omnibus:                        1.379   Durbin-Watson:                   1.827\n",
       "Prob(Omnibus):                  0.502   Jarque-Bera (JB):                1.088\n",
       "Skew:                           0.409   Prob(JB):                        0.580\n",
       "Kurtosis:                       2.859   Cond. No.                     3.73e+03\n",
       "==============================================================================\n",
       "\n",
       "Notes:\n",
       "[1] Standard Errors assume that the covariance matrix of the errors is correctly specified.\n",
       "[2] The condition number is large, 3.73e+03. This might indicate that there are\n",
       "strong multicollinearity or other numerical problems.\n",
       "\"\"\""
      ]
     },
     "execution_count": 57,
     "metadata": {},
     "output_type": "execute_result"
    }
   ],
   "source": [
    "m = ols('PIQ ~ Height + Weight + Brain', iq).fit()\n",
    "m.summary()"
   ]
  },
  {
   "cell_type": "code",
   "execution_count": null,
   "id": "af787449",
   "metadata": {},
   "outputs": [],
   "source": []
  }
 ],
 "metadata": {
  "kernelspec": {
   "display_name": "Python 3 (ipykernel)",
   "language": "python",
   "name": "python3"
  },
  "language_info": {
   "codemirror_mode": {
    "name": "ipython",
    "version": 3
   },
   "file_extension": ".py",
   "mimetype": "text/x-python",
   "name": "python",
   "nbconvert_exporter": "python",
   "pygments_lexer": "ipython3",
   "version": "3.9.13"
  },
  "toc": {
   "base_numbering": 1,
   "nav_menu": {},
   "number_sections": true,
   "sideBar": true,
   "skip_h1_title": false,
   "title_cell": "Table of Contents",
   "title_sidebar": "Contents",
   "toc_cell": false,
   "toc_position": {},
   "toc_section_display": true,
   "toc_window_display": false
  }
 },
 "nbformat": 4,
 "nbformat_minor": 5
}
