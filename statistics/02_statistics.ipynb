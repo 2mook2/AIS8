{
 "cells": [
  {
   "cell_type": "markdown",
   "id": "8559175b",
   "metadata": {},
   "source": [
    "### 추정"
   ]
  },
  {
   "cell_type": "code",
   "execution_count": 1,
   "id": "99fc72b3",
   "metadata": {},
   "outputs": [
    {
     "name": "stdout",
     "output_type": "stream",
     "text": [
      "Collecting pingouinNote: you may need to restart the kernel to use updated packages.\n",
      "\n",
      "  Downloading pingouin-0.5.3-py3-none-any.whl (198 kB)\n",
      "     -------------------------------------- 198.6/198.6 kB 6.1 MB/s eta 0:00:00\n",
      "Requirement already satisfied: numpy>=1.19 in c:\\users\\mook\\appdata\\roaming\\python\\python39\\site-packages (from pingouin) (1.24.1)\n",
      "Requirement already satisfied: pandas>=1.0 in c:\\users\\mook\\appdata\\roaming\\python\\python39\\site-packages (from pingouin) (1.5.3)\n",
      "Collecting pandas-flavor>=0.2.0\n",
      "  Downloading pandas_flavor-0.5.0-py3-none-any.whl (7.1 kB)\n",
      "Requirement already satisfied: tabulate in c:\\users\\mook\\anaconda3\\lib\\site-packages (from pingouin) (0.8.10)\n",
      "Requirement already satisfied: matplotlib>=3.0.2 in c:\\users\\mook\\anaconda3\\lib\\site-packages (from pingouin) (3.5.2)\n",
      "Requirement already satisfied: scikit-learn in c:\\users\\mook\\anaconda3\\lib\\site-packages (from pingouin) (1.0.2)\n",
      "Requirement already satisfied: seaborn>=0.11 in c:\\users\\mook\\anaconda3\\lib\\site-packages (from pingouin) (0.11.2)\n",
      "Requirement already satisfied: statsmodels>=0.13 in c:\\users\\mook\\anaconda3\\lib\\site-packages (from pingouin) (0.13.2)\n",
      "Requirement already satisfied: scipy>=1.7 in c:\\users\\mook\\anaconda3\\lib\\site-packages (from pingouin) (1.9.1)\n",
      "Collecting outdated\n",
      "  Downloading outdated-0.2.2-py2.py3-none-any.whl (7.5 kB)\n",
      "Requirement already satisfied: cycler>=0.10 in c:\\users\\mook\\anaconda3\\lib\\site-packages (from matplotlib>=3.0.2->pingouin) (0.11.0)\n",
      "Requirement already satisfied: packaging>=20.0 in c:\\users\\mook\\anaconda3\\lib\\site-packages (from matplotlib>=3.0.2->pingouin) (21.3)\n",
      "Requirement already satisfied: kiwisolver>=1.0.1 in c:\\users\\mook\\anaconda3\\lib\\site-packages (from matplotlib>=3.0.2->pingouin) (1.4.2)\n",
      "Requirement already satisfied: pillow>=6.2.0 in c:\\users\\mook\\anaconda3\\lib\\site-packages (from matplotlib>=3.0.2->pingouin) (9.2.0)\n",
      "Requirement already satisfied: python-dateutil>=2.7 in c:\\users\\mook\\appdata\\roaming\\python\\python39\\site-packages (from matplotlib>=3.0.2->pingouin) (2.8.2)\n",
      "Requirement already satisfied: pyparsing>=2.2.1 in c:\\users\\mook\\anaconda3\\lib\\site-packages (from matplotlib>=3.0.2->pingouin) (3.0.9)\n",
      "Requirement already satisfied: fonttools>=4.22.0 in c:\\users\\mook\\anaconda3\\lib\\site-packages (from matplotlib>=3.0.2->pingouin) (4.25.0)\n",
      "Requirement already satisfied: pytz>=2020.1 in c:\\users\\mook\\appdata\\roaming\\python\\python39\\site-packages (from pandas>=1.0->pingouin) (2022.7.1)\n",
      "Requirement already satisfied: xarray in c:\\users\\mook\\anaconda3\\lib\\site-packages (from pandas-flavor>=0.2.0->pingouin) (0.20.1)\n",
      "Collecting lazy-loader>=0.1\n",
      "  Downloading lazy_loader-0.1-py3-none-any.whl (8.6 kB)\n",
      "Requirement already satisfied: patsy>=0.5.2 in c:\\users\\mook\\anaconda3\\lib\\site-packages (from statsmodels>=0.13->pingouin) (0.5.2)\n",
      "Requirement already satisfied: setuptools>=44 in c:\\users\\mook\\anaconda3\\lib\\site-packages (from outdated->pingouin) (63.4.1)\n",
      "Collecting littleutils\n",
      "  Downloading littleutils-0.2.2.tar.gz (6.6 kB)\n",
      "  Preparing metadata (setup.py): started\n",
      "  Preparing metadata (setup.py): finished with status 'done'\n",
      "Requirement already satisfied: requests in c:\\users\\mook\\appdata\\roaming\\python\\python39\\site-packages (from outdated->pingouin) (2.28.1)\n",
      "Requirement already satisfied: threadpoolctl>=2.0.0 in c:\\users\\mook\\anaconda3\\lib\\site-packages (from scikit-learn->pingouin) (2.2.0)\n",
      "Requirement already satisfied: joblib>=0.11 in c:\\users\\mook\\anaconda3\\lib\\site-packages (from scikit-learn->pingouin) (1.1.0)\n",
      "Requirement already satisfied: six in c:\\users\\mook\\appdata\\roaming\\python\\python39\\site-packages (from patsy>=0.5.2->statsmodels>=0.13->pingouin) (1.16.0)\n",
      "Requirement already satisfied: certifi>=2017.4.17 in c:\\users\\mook\\appdata\\roaming\\python\\python39\\site-packages (from requests->outdated->pingouin) (2022.12.7)\n",
      "Requirement already satisfied: idna<4,>=2.5 in c:\\users\\mook\\appdata\\roaming\\python\\python39\\site-packages (from requests->outdated->pingouin) (2.10)\n",
      "Requirement already satisfied: urllib3<1.27,>=1.21.1 in c:\\users\\mook\\appdata\\roaming\\python\\python39\\site-packages (from requests->outdated->pingouin) (1.26.13)\n",
      "Requirement already satisfied: charset-normalizer<3,>=2 in c:\\users\\mook\\appdata\\roaming\\python\\python39\\site-packages (from requests->outdated->pingouin) (2.1.1)\n",
      "Building wheels for collected packages: littleutils\n",
      "  Building wheel for littleutils (setup.py): started\n",
      "  Building wheel for littleutils (setup.py): finished with status 'done'\n",
      "  Created wheel for littleutils: filename=littleutils-0.2.2-py3-none-any.whl size=7028 sha256=fdb922152492c65a0c63b6f2672d1e2e3c88478d6d195d8b06e24d8d2b5d72d4\n",
      "  Stored in directory: c:\\users\\mook\\appdata\\local\\pip\\cache\\wheels\\04\\bb\\0d\\2d02ec45f29c48d6192476bfb59c5a0e64b605e7212374dd15\n",
      "Successfully built littleutils\n",
      "Installing collected packages: littleutils, lazy-loader, outdated, pandas-flavor, pingouin\n",
      "Successfully installed lazy-loader-0.1 littleutils-0.2.2 outdated-0.2.2 pandas-flavor-0.5.0 pingouin-0.5.3\n"
     ]
    }
   ],
   "source": [
    "pip install pingouin"
   ]
  },
  {
   "cell_type": "code",
   "execution_count": 5,
   "id": "f28df2f7",
   "metadata": {},
   "outputs": [
    {
     "data": {
      "text/html": [
       "<div>\n",
       "<style scoped>\n",
       "    .dataframe tbody tr th:only-of-type {\n",
       "        vertical-align: middle;\n",
       "    }\n",
       "\n",
       "    .dataframe tbody tr th {\n",
       "        vertical-align: top;\n",
       "    }\n",
       "\n",
       "    .dataframe thead th {\n",
       "        text-align: right;\n",
       "    }\n",
       "</style>\n",
       "<table border=\"1\" class=\"dataframe\">\n",
       "  <thead>\n",
       "    <tr style=\"text-align: right;\">\n",
       "      <th></th>\n",
       "      <th>mileage</th>\n",
       "      <th>price</th>\n",
       "      <th>year</th>\n",
       "      <th>my_car_damage</th>\n",
       "      <th>other_car_damage</th>\n",
       "    </tr>\n",
       "  </thead>\n",
       "  <tbody>\n",
       "    <tr>\n",
       "      <th>count</th>\n",
       "      <td>274.000000</td>\n",
       "      <td>274.000000</td>\n",
       "      <td>274.000000</td>\n",
       "      <td>2.740000e+02</td>\n",
       "      <td>2.740000e+02</td>\n",
       "    </tr>\n",
       "    <tr>\n",
       "      <th>mean</th>\n",
       "      <td>77483.222628</td>\n",
       "      <td>853.660584</td>\n",
       "      <td>2013.273723</td>\n",
       "      <td>2.319453e+06</td>\n",
       "      <td>1.807992e+06</td>\n",
       "    </tr>\n",
       "    <tr>\n",
       "      <th>std</th>\n",
       "      <td>43015.794453</td>\n",
       "      <td>332.613127</td>\n",
       "      <td>2.589406</td>\n",
       "      <td>3.080107e+06</td>\n",
       "      <td>4.655390e+06</td>\n",
       "    </tr>\n",
       "    <tr>\n",
       "      <th>min</th>\n",
       "      <td>2287.000000</td>\n",
       "      <td>190.000000</td>\n",
       "      <td>2006.000000</td>\n",
       "      <td>0.000000e+00</td>\n",
       "      <td>0.000000e+00</td>\n",
       "    </tr>\n",
       "    <tr>\n",
       "      <th>25%</th>\n",
       "      <td>47597.500000</td>\n",
       "      <td>620.000000</td>\n",
       "      <td>2011.000000</td>\n",
       "      <td>0.000000e+00</td>\n",
       "      <td>0.000000e+00</td>\n",
       "    </tr>\n",
       "    <tr>\n",
       "      <th>50%</th>\n",
       "      <td>71649.000000</td>\n",
       "      <td>805.000000</td>\n",
       "      <td>2014.000000</td>\n",
       "      <td>1.100410e+06</td>\n",
       "      <td>3.986190e+05</td>\n",
       "    </tr>\n",
       "    <tr>\n",
       "      <th>75%</th>\n",
       "      <td>103193.750000</td>\n",
       "      <td>1090.000000</td>\n",
       "      <td>2015.000000</td>\n",
       "      <td>3.002840e+06</td>\n",
       "      <td>1.640666e+06</td>\n",
       "    </tr>\n",
       "    <tr>\n",
       "      <th>max</th>\n",
       "      <td>310000.000000</td>\n",
       "      <td>1820.000000</td>\n",
       "      <td>2018.000000</td>\n",
       "      <td>1.536732e+07</td>\n",
       "      <td>5.510890e+07</td>\n",
       "    </tr>\n",
       "  </tbody>\n",
       "</table>\n",
       "</div>"
      ],
      "text/plain": [
       "             mileage        price         year  my_car_damage  \\\n",
       "count     274.000000   274.000000   274.000000   2.740000e+02   \n",
       "mean    77483.222628   853.660584  2013.273723   2.319453e+06   \n",
       "std     43015.794453   332.613127     2.589406   3.080107e+06   \n",
       "min      2287.000000   190.000000  2006.000000   0.000000e+00   \n",
       "25%     47597.500000   620.000000  2011.000000   0.000000e+00   \n",
       "50%     71649.000000   805.000000  2014.000000   1.100410e+06   \n",
       "75%    103193.750000  1090.000000  2015.000000   3.002840e+06   \n",
       "max    310000.000000  1820.000000  2018.000000   1.536732e+07   \n",
       "\n",
       "       other_car_damage  \n",
       "count      2.740000e+02  \n",
       "mean       1.807992e+06  \n",
       "std        4.655390e+06  \n",
       "min        0.000000e+00  \n",
       "25%        0.000000e+00  \n",
       "50%        3.986190e+05  \n",
       "75%        1.640666e+06  \n",
       "max        5.510890e+07  "
      ]
     },
     "execution_count": 5,
     "metadata": {},
     "output_type": "execute_result"
    }
   ],
   "source": [
    "import pandas as pd\n",
    "df = pd.read_excel('data/car.xlsx')\n",
    "df.describe()"
   ]
  },
  {
   "cell_type": "code",
   "execution_count": 4,
   "id": "f26bd710",
   "metadata": {},
   "outputs": [
    {
     "data": {
      "text/html": [
       "<div>\n",
       "<style scoped>\n",
       "    .dataframe tbody tr th:only-of-type {\n",
       "        vertical-align: middle;\n",
       "    }\n",
       "\n",
       "    .dataframe tbody tr th {\n",
       "        vertical-align: top;\n",
       "    }\n",
       "\n",
       "    .dataframe thead th {\n",
       "        text-align: right;\n",
       "    }\n",
       "</style>\n",
       "<table border=\"1\" class=\"dataframe\">\n",
       "  <thead>\n",
       "    <tr style=\"text-align: right;\">\n",
       "      <th></th>\n",
       "      <th>T</th>\n",
       "      <th>dof</th>\n",
       "      <th>alternative</th>\n",
       "      <th>p-val</th>\n",
       "      <th>CI95%</th>\n",
       "      <th>cohen-d</th>\n",
       "      <th>BF10</th>\n",
       "      <th>power</th>\n",
       "    </tr>\n",
       "  </thead>\n",
       "  <tbody>\n",
       "    <tr>\n",
       "      <th>T-test</th>\n",
       "      <td>42.483582</td>\n",
       "      <td>273</td>\n",
       "      <td>two-sided</td>\n",
       "      <td>2.486212e-122</td>\n",
       "      <td>[814.1, 893.22]</td>\n",
       "      <td>2.566527</td>\n",
       "      <td>2.773e+118</td>\n",
       "      <td>1.0</td>\n",
       "    </tr>\n",
       "  </tbody>\n",
       "</table>\n",
       "</div>"
      ],
      "text/plain": [
       "                T  dof alternative          p-val            CI95%   cohen-d  \\\n",
       "T-test  42.483582  273   two-sided  2.486212e-122  [814.1, 893.22]  2.566527   \n",
       "\n",
       "              BF10  power  \n",
       "T-test  2.773e+118    1.0  "
      ]
     },
     "execution_count": 4,
     "metadata": {},
     "output_type": "execute_result"
    }
   ],
   "source": [
    "import pingouin as pg\n",
    "pg.ttest(df.price, 0, confidence=0.95) # 평균의 95% 신뢰구간 (양쪽 극단값을 배제해서 구간으로 나옴)"
   ]
  },
  {
   "cell_type": "code",
   "execution_count": null,
   "id": "de11f4f7",
   "metadata": {},
   "outputs": [],
   "source": [
    "## 실습\n",
    "# - 주행거리(mileage)의 평균의 95% 신뢰구간\n",
    "# - 주행거리(mileage)의 평균의 99% 신뢰구간\n",
    "# - model == 'Avante'인 경우의 가격의 평균의 95% 신뢰구간\n",
    "# - model == 'K3'인 경우의 가격의 평균의 95% 신뢰구간"
   ]
  },
  {
   "cell_type": "code",
   "execution_count": 13,
   "id": "684150f5",
   "metadata": {},
   "outputs": [
    {
     "data": {
      "text/html": [
       "<div>\n",
       "<style scoped>\n",
       "    .dataframe tbody tr th:only-of-type {\n",
       "        vertical-align: middle;\n",
       "    }\n",
       "\n",
       "    .dataframe tbody tr th {\n",
       "        vertical-align: top;\n",
       "    }\n",
       "\n",
       "    .dataframe thead th {\n",
       "        text-align: right;\n",
       "    }\n",
       "</style>\n",
       "<table border=\"1\" class=\"dataframe\">\n",
       "  <thead>\n",
       "    <tr style=\"text-align: right;\">\n",
       "      <th></th>\n",
       "      <th>T</th>\n",
       "      <th>dof</th>\n",
       "      <th>alternative</th>\n",
       "      <th>p-val</th>\n",
       "      <th>CI99%</th>\n",
       "      <th>cohen-d</th>\n",
       "      <th>BF10</th>\n",
       "      <th>power</th>\n",
       "    </tr>\n",
       "  </thead>\n",
       "  <tbody>\n",
       "    <tr>\n",
       "      <th>T-test</th>\n",
       "      <td>29.816386</td>\n",
       "      <td>273</td>\n",
       "      <td>two-sided</td>\n",
       "      <td>7.513310e-88</td>\n",
       "      <td>[70742.35856441465, 84224.0866910598]</td>\n",
       "      <td>1.801274</td>\n",
       "      <td>1.384e+84</td>\n",
       "      <td>1.0</td>\n",
       "    </tr>\n",
       "  </tbody>\n",
       "</table>\n",
       "</div>"
      ],
      "text/plain": [
       "                T  dof alternative         p-val  \\\n",
       "T-test  29.816386  273   two-sided  7.513310e-88   \n",
       "\n",
       "                                        CI99%   cohen-d       BF10  power  \n",
       "T-test  [70742.35856441465, 84224.0866910598]  1.801274  1.384e+84    1.0  "
      ]
     },
     "execution_count": 13,
     "metadata": {},
     "output_type": "execute_result"
    }
   ],
   "source": [
    "pg.ttest(df.mileage, 0, confidence=0.99)"
   ]
  },
  {
   "cell_type": "code",
   "execution_count": 7,
   "id": "47b231f3",
   "metadata": {},
   "outputs": [
    {
     "data": {
      "text/html": [
       "<div>\n",
       "<style scoped>\n",
       "    .dataframe tbody tr th:only-of-type {\n",
       "        vertical-align: middle;\n",
       "    }\n",
       "\n",
       "    .dataframe tbody tr th {\n",
       "        vertical-align: top;\n",
       "    }\n",
       "\n",
       "    .dataframe thead th {\n",
       "        text-align: right;\n",
       "    }\n",
       "</style>\n",
       "<table border=\"1\" class=\"dataframe\">\n",
       "  <thead>\n",
       "    <tr style=\"text-align: right;\">\n",
       "      <th></th>\n",
       "      <th>mileage</th>\n",
       "      <th>model</th>\n",
       "      <th>price</th>\n",
       "      <th>year</th>\n",
       "      <th>my_car_damage</th>\n",
       "      <th>other_car_damage</th>\n",
       "    </tr>\n",
       "  </thead>\n",
       "  <tbody>\n",
       "    <tr>\n",
       "      <th>69</th>\n",
       "      <td>95195</td>\n",
       "      <td>Avante</td>\n",
       "      <td>1099</td>\n",
       "      <td>2016</td>\n",
       "      <td>0</td>\n",
       "      <td>0</td>\n",
       "    </tr>\n",
       "    <tr>\n",
       "      <th>70</th>\n",
       "      <td>94871</td>\n",
       "      <td>Avante</td>\n",
       "      <td>1099</td>\n",
       "      <td>2016</td>\n",
       "      <td>317428</td>\n",
       "      <td>0</td>\n",
       "    </tr>\n",
       "    <tr>\n",
       "      <th>71</th>\n",
       "      <td>99602</td>\n",
       "      <td>Avante</td>\n",
       "      <td>1099</td>\n",
       "      <td>2016</td>\n",
       "      <td>0</td>\n",
       "      <td>0</td>\n",
       "    </tr>\n",
       "    <tr>\n",
       "      <th>72</th>\n",
       "      <td>108000</td>\n",
       "      <td>Avante</td>\n",
       "      <td>690</td>\n",
       "      <td>2016</td>\n",
       "      <td>1605543</td>\n",
       "      <td>0</td>\n",
       "    </tr>\n",
       "    <tr>\n",
       "      <th>73</th>\n",
       "      <td>116659</td>\n",
       "      <td>Avante</td>\n",
       "      <td>820</td>\n",
       "      <td>2015</td>\n",
       "      <td>0</td>\n",
       "      <td>0</td>\n",
       "    </tr>\n",
       "    <tr>\n",
       "      <th>...</th>\n",
       "      <td>...</td>\n",
       "      <td>...</td>\n",
       "      <td>...</td>\n",
       "      <td>...</td>\n",
       "      <td>...</td>\n",
       "      <td>...</td>\n",
       "    </tr>\n",
       "    <tr>\n",
       "      <th>269</th>\n",
       "      <td>235000</td>\n",
       "      <td>Avante</td>\n",
       "      <td>390</td>\n",
       "      <td>2007</td>\n",
       "      <td>1473730</td>\n",
       "      <td>507260</td>\n",
       "    </tr>\n",
       "    <tr>\n",
       "      <th>270</th>\n",
       "      <td>140000</td>\n",
       "      <td>Avante</td>\n",
       "      <td>430</td>\n",
       "      <td>2009</td>\n",
       "      <td>14399366</td>\n",
       "      <td>4592589</td>\n",
       "    </tr>\n",
       "    <tr>\n",
       "      <th>271</th>\n",
       "      <td>96757</td>\n",
       "      <td>Avante</td>\n",
       "      <td>390</td>\n",
       "      <td>2006</td>\n",
       "      <td>303080</td>\n",
       "      <td>0</td>\n",
       "    </tr>\n",
       "    <tr>\n",
       "      <th>272</th>\n",
       "      <td>113853</td>\n",
       "      <td>Avante</td>\n",
       "      <td>390</td>\n",
       "      <td>2008</td>\n",
       "      <td>320780</td>\n",
       "      <td>1857718</td>\n",
       "    </tr>\n",
       "    <tr>\n",
       "      <th>273</th>\n",
       "      <td>91000</td>\n",
       "      <td>Avante</td>\n",
       "      <td>350</td>\n",
       "      <td>2006</td>\n",
       "      <td>3128450</td>\n",
       "      <td>401030</td>\n",
       "    </tr>\n",
       "  </tbody>\n",
       "</table>\n",
       "<p>205 rows × 6 columns</p>\n",
       "</div>"
      ],
      "text/plain": [
       "     mileage   model  price  year  my_car_damage  other_car_damage\n",
       "69     95195  Avante   1099  2016              0                 0\n",
       "70     94871  Avante   1099  2016         317428                 0\n",
       "71     99602  Avante   1099  2016              0                 0\n",
       "72    108000  Avante    690  2016        1605543                 0\n",
       "73    116659  Avante    820  2015              0                 0\n",
       "..       ...     ...    ...   ...            ...               ...\n",
       "269   235000  Avante    390  2007        1473730            507260\n",
       "270   140000  Avante    430  2009       14399366           4592589\n",
       "271    96757  Avante    390  2006         303080                 0\n",
       "272   113853  Avante    390  2008         320780           1857718\n",
       "273    91000  Avante    350  2006        3128450            401030\n",
       "\n",
       "[205 rows x 6 columns]"
      ]
     },
     "execution_count": 7,
     "metadata": {},
     "output_type": "execute_result"
    }
   ],
   "source": [
    "df_avante = df[df['model']=='Avante']\n",
    "df_avante"
   ]
  },
  {
   "cell_type": "code",
   "execution_count": 14,
   "id": "88fcdb07",
   "metadata": {},
   "outputs": [
    {
     "data": {
      "text/html": [
       "<div>\n",
       "<style scoped>\n",
       "    .dataframe tbody tr th:only-of-type {\n",
       "        vertical-align: middle;\n",
       "    }\n",
       "\n",
       "    .dataframe tbody tr th {\n",
       "        vertical-align: top;\n",
       "    }\n",
       "\n",
       "    .dataframe thead th {\n",
       "        text-align: right;\n",
       "    }\n",
       "</style>\n",
       "<table border=\"1\" class=\"dataframe\">\n",
       "  <thead>\n",
       "    <tr style=\"text-align: right;\">\n",
       "      <th></th>\n",
       "      <th>mileage</th>\n",
       "      <th>model</th>\n",
       "      <th>price</th>\n",
       "      <th>year</th>\n",
       "      <th>my_car_damage</th>\n",
       "      <th>other_car_damage</th>\n",
       "    </tr>\n",
       "  </thead>\n",
       "  <tbody>\n",
       "    <tr>\n",
       "      <th>0</th>\n",
       "      <td>63608</td>\n",
       "      <td>K3</td>\n",
       "      <td>970</td>\n",
       "      <td>2017</td>\n",
       "      <td>0</td>\n",
       "      <td>564596</td>\n",
       "    </tr>\n",
       "    <tr>\n",
       "      <th>1</th>\n",
       "      <td>69336</td>\n",
       "      <td>K3</td>\n",
       "      <td>1130</td>\n",
       "      <td>2015</td>\n",
       "      <td>1839700</td>\n",
       "      <td>1140150</td>\n",
       "    </tr>\n",
       "    <tr>\n",
       "      <th>2</th>\n",
       "      <td>36000</td>\n",
       "      <td>K3</td>\n",
       "      <td>1380</td>\n",
       "      <td>2016</td>\n",
       "      <td>446520</td>\n",
       "      <td>2244910</td>\n",
       "    </tr>\n",
       "    <tr>\n",
       "      <th>3</th>\n",
       "      <td>19029</td>\n",
       "      <td>K3</td>\n",
       "      <td>1390</td>\n",
       "      <td>2017</td>\n",
       "      <td>889000</td>\n",
       "      <td>4196110</td>\n",
       "    </tr>\n",
       "    <tr>\n",
       "      <th>4</th>\n",
       "      <td>97090</td>\n",
       "      <td>K3</td>\n",
       "      <td>760</td>\n",
       "      <td>2015</td>\n",
       "      <td>2339137</td>\n",
       "      <td>2029570</td>\n",
       "    </tr>\n",
       "    <tr>\n",
       "      <th>...</th>\n",
       "      <td>...</td>\n",
       "      <td>...</td>\n",
       "      <td>...</td>\n",
       "      <td>...</td>\n",
       "      <td>...</td>\n",
       "      <td>...</td>\n",
       "    </tr>\n",
       "    <tr>\n",
       "      <th>64</th>\n",
       "      <td>24982</td>\n",
       "      <td>K3</td>\n",
       "      <td>760</td>\n",
       "      <td>2013</td>\n",
       "      <td>9487329</td>\n",
       "      <td>903770</td>\n",
       "    </tr>\n",
       "    <tr>\n",
       "      <th>65</th>\n",
       "      <td>75940</td>\n",
       "      <td>K3</td>\n",
       "      <td>930</td>\n",
       "      <td>2014</td>\n",
       "      <td>2999150</td>\n",
       "      <td>762080</td>\n",
       "    </tr>\n",
       "    <tr>\n",
       "      <th>66</th>\n",
       "      <td>62213</td>\n",
       "      <td>K3</td>\n",
       "      <td>760</td>\n",
       "      <td>2015</td>\n",
       "      <td>8025988</td>\n",
       "      <td>10006980</td>\n",
       "    </tr>\n",
       "    <tr>\n",
       "      <th>67</th>\n",
       "      <td>50800</td>\n",
       "      <td>K3</td>\n",
       "      <td>1000</td>\n",
       "      <td>2015</td>\n",
       "      <td>2636106</td>\n",
       "      <td>1075751</td>\n",
       "    </tr>\n",
       "    <tr>\n",
       "      <th>68</th>\n",
       "      <td>18620</td>\n",
       "      <td>K3</td>\n",
       "      <td>1290</td>\n",
       "      <td>2015</td>\n",
       "      <td>3525078</td>\n",
       "      <td>235320</td>\n",
       "    </tr>\n",
       "  </tbody>\n",
       "</table>\n",
       "<p>69 rows × 6 columns</p>\n",
       "</div>"
      ],
      "text/plain": [
       "    mileage model  price  year  my_car_damage  other_car_damage\n",
       "0     63608    K3    970  2017              0            564596\n",
       "1     69336    K3   1130  2015        1839700           1140150\n",
       "2     36000    K3   1380  2016         446520           2244910\n",
       "3     19029    K3   1390  2017         889000           4196110\n",
       "4     97090    K3    760  2015        2339137           2029570\n",
       "..      ...   ...    ...   ...            ...               ...\n",
       "64    24982    K3    760  2013        9487329            903770\n",
       "65    75940    K3    930  2014        2999150            762080\n",
       "66    62213    K3    760  2015        8025988          10006980\n",
       "67    50800    K3   1000  2015        2636106           1075751\n",
       "68    18620    K3   1290  2015        3525078            235320\n",
       "\n",
       "[69 rows x 6 columns]"
      ]
     },
     "execution_count": 14,
     "metadata": {},
     "output_type": "execute_result"
    }
   ],
   "source": [
    "df_k3 = df[df['model']=='K3']\n",
    "df_k3"
   ]
  },
  {
   "cell_type": "code",
   "execution_count": 10,
   "id": "ccf24a88",
   "metadata": {},
   "outputs": [
    {
     "data": {
      "text/html": [
       "<div>\n",
       "<style scoped>\n",
       "    .dataframe tbody tr th:only-of-type {\n",
       "        vertical-align: middle;\n",
       "    }\n",
       "\n",
       "    .dataframe tbody tr th {\n",
       "        vertical-align: top;\n",
       "    }\n",
       "\n",
       "    .dataframe thead th {\n",
       "        text-align: right;\n",
       "    }\n",
       "</style>\n",
       "<table border=\"1\" class=\"dataframe\">\n",
       "  <thead>\n",
       "    <tr style=\"text-align: right;\">\n",
       "      <th></th>\n",
       "      <th>T</th>\n",
       "      <th>dof</th>\n",
       "      <th>alternative</th>\n",
       "      <th>p-val</th>\n",
       "      <th>CI95%</th>\n",
       "      <th>cohen-d</th>\n",
       "      <th>BF10</th>\n",
       "      <th>power</th>\n",
       "    </tr>\n",
       "  </thead>\n",
       "  <tbody>\n",
       "    <tr>\n",
       "      <th>T-test</th>\n",
       "      <td>33.011035</td>\n",
       "      <td>204</td>\n",
       "      <td>two-sided</td>\n",
       "      <td>9.072793e-84</td>\n",
       "      <td>[783.64, 883.19]</td>\n",
       "      <td>2.305591</td>\n",
       "      <td>1.149e+80</td>\n",
       "      <td>1.0</td>\n",
       "    </tr>\n",
       "  </tbody>\n",
       "</table>\n",
       "</div>"
      ],
      "text/plain": [
       "                T  dof alternative         p-val             CI95%   cohen-d  \\\n",
       "T-test  33.011035  204   two-sided  9.072793e-84  [783.64, 883.19]  2.305591   \n",
       "\n",
       "             BF10  power  \n",
       "T-test  1.149e+80    1.0  "
      ]
     },
     "execution_count": 10,
     "metadata": {},
     "output_type": "execute_result"
    }
   ],
   "source": [
    "pg.ttest(df_avante['price'], 0, confidence=0.95) # Avante 평균의 95% 신뢰구간(+- 50만원)"
   ]
  },
  {
   "cell_type": "code",
   "execution_count": 12,
   "id": "0e72ba96",
   "metadata": {},
   "outputs": [
    {
     "data": {
      "text/html": [
       "<div>\n",
       "<style scoped>\n",
       "    .dataframe tbody tr th:only-of-type {\n",
       "        vertical-align: middle;\n",
       "    }\n",
       "\n",
       "    .dataframe tbody tr th {\n",
       "        vertical-align: top;\n",
       "    }\n",
       "\n",
       "    .dataframe thead th {\n",
       "        text-align: right;\n",
       "    }\n",
       "</style>\n",
       "<table border=\"1\" class=\"dataframe\">\n",
       "  <thead>\n",
       "    <tr style=\"text-align: right;\">\n",
       "      <th></th>\n",
       "      <th>T</th>\n",
       "      <th>dof</th>\n",
       "      <th>alternative</th>\n",
       "      <th>p-val</th>\n",
       "      <th>CI95%</th>\n",
       "      <th>cohen-d</th>\n",
       "      <th>BF10</th>\n",
       "      <th>power</th>\n",
       "    </tr>\n",
       "  </thead>\n",
       "  <tbody>\n",
       "    <tr>\n",
       "      <th>T-test</th>\n",
       "      <td>34.919702</td>\n",
       "      <td>68</td>\n",
       "      <td>two-sided</td>\n",
       "      <td>3.721657e-45</td>\n",
       "      <td>[861.59, 966.03]</td>\n",
       "      <td>4.203838</td>\n",
       "      <td>4.394e+41</td>\n",
       "      <td>1.0</td>\n",
       "    </tr>\n",
       "  </tbody>\n",
       "</table>\n",
       "</div>"
      ],
      "text/plain": [
       "                T  dof alternative         p-val             CI95%   cohen-d  \\\n",
       "T-test  34.919702   68   two-sided  3.721657e-45  [861.59, 966.03]  4.203838   \n",
       "\n",
       "             BF10  power  \n",
       "T-test  4.394e+41    1.0  "
      ]
     },
     "execution_count": 12,
     "metadata": {},
     "output_type": "execute_result"
    }
   ],
   "source": [
    "pg.ttest(df[df['model']=='K3']['price'], 0, confidence=0.95) # K3 평균의 95% 신뢰구간(+- 52만원) 표본이 적어 더 넉넉"
   ]
  },
  {
   "cell_type": "code",
   "execution_count": 15,
   "id": "069cfd29",
   "metadata": {},
   "outputs": [
    {
     "data": {
      "text/plain": [
       "52.21999999999997"
      ]
     },
     "execution_count": 15,
     "metadata": {},
     "output_type": "execute_result"
    }
   ],
   "source": [
    "# 오차 = (신뢰구간 상한 - 하한) / 2\n",
    "(966.03 - 861.59) / 2"
   ]
  },
  {
   "cell_type": "code",
   "execution_count": 17,
   "id": "a6c0f2bc",
   "metadata": {},
   "outputs": [
    {
     "data": {
      "text/plain": [
       "BootstrapResult(confidence_interval=ConfidenceInterval(low=814.3510841459506, high=893.7479490168221), standard_error=20.222906371988888)"
      ]
     },
     "execution_count": 17,
     "metadata": {},
     "output_type": "execute_result"
    }
   ],
   "source": [
    "import scipy\n",
    "import numpy as np\n",
    "\n",
    "# scipy.stats.bootstrap(df['price'], np.median, confidence_level=0.99, n_resamples=99999)  # 99% 신뢰구간, 99999번 시뮬레이션\n",
    "\n",
    "scipy.stats.bootstrap([df['price']], np.mean) # np.mean이 아니라 np.median을 쓰면 중간값의 신뢰구간을 구할 수 있다."
   ]
  },
  {
   "cell_type": "code",
   "execution_count": null,
   "id": "3962ef44",
   "metadata": {},
   "outputs": [],
   "source": [
    "# 통계 이론을 이용해서 구한 평균의 95% 신뢰구간:       814.1, 893.22\n",
    "# 부트스트랩(시뮬레이션)으로 구한 평균의 95% 신뢰구간: 814.3, 893.74"
   ]
  },
  {
   "cell_type": "code",
   "execution_count": 19,
   "id": "664f8115",
   "metadata": {},
   "outputs": [
    {
     "data": {
      "text/plain": [
       "3.0990321069650117"
      ]
     },
     "execution_count": 19,
     "metadata": {},
     "output_type": "execute_result"
    }
   ],
   "source": [
    "# 오차범위\n",
    "(1.96 * 0.5 / np.sqrt(1000)) * 100 # 1000명 조사했을 때 오차 범위 %p"
   ]
  },
  {
   "cell_type": "code",
   "execution_count": null,
   "id": "385d734e",
   "metadata": {},
   "outputs": [],
   "source": [
    "# # 질문\n",
    "# 신제품 개발을 위해 여론조사를 하려고 하는데,\n",
    "# 일단 대략적인 여론만 알면되기 때문에 오차범위가 +-10%p 정도만 되면 괜찮을 것 같다.\n",
    "# 그러면 여론조사를 몇 명에게 하면 될까?"
   ]
  },
  {
   "cell_type": "code",
   "execution_count": 20,
   "id": "5b3cd7bb",
   "metadata": {},
   "outputs": [
    {
     "data": {
      "text/plain": [
       "96.03999999999998"
      ]
     },
     "execution_count": 20,
     "metadata": {},
     "output_type": "execute_result"
    }
   ],
   "source": [
    "# 오차범위 역으로 계산하면 된다. (1.96 * 0.5 / np.sqrt(n)) *100 = 10\n",
    "(1.96 * 0.5 / 0.1) ** 2 "
   ]
  },
  {
   "cell_type": "code",
   "execution_count": 22,
   "id": "98a0d34d",
   "metadata": {},
   "outputs": [
    {
     "data": {
      "text/plain": [
       "10.002083116364645"
      ]
     },
     "execution_count": 22,
     "metadata": {},
     "output_type": "execute_result"
    }
   ],
   "source": [
    "# 혹은 대입하는 방법\n",
    "(1.96 * 0.5 / np.sqrt(96)) * 100"
   ]
  },
  {
   "cell_type": "code",
   "execution_count": 24,
   "id": "f59f0338",
   "metadata": {},
   "outputs": [
    {
     "data": {
      "text/plain": [
       "1067.1111111111109"
      ]
     },
     "execution_count": 24,
     "metadata": {},
     "output_type": "execute_result"
    }
   ],
   "source": [
    "# 선거 조사\n",
    "오차범위 = 3  # 퍼센트 포인트\n",
    "인원수= ((1.96 * 0.5 / 오차범위) * 100) ** 2\n",
    "인원수"
   ]
  },
  {
   "cell_type": "markdown",
   "id": "0cca5a82",
   "metadata": {},
   "source": [
    "### 통계적 가설검정"
   ]
  },
  {
   "cell_type": "code",
   "execution_count": 29,
   "id": "5f4bb029",
   "metadata": {},
   "outputs": [
    {
     "data": {
      "text/html": [
       "<div>\n",
       "<style scoped>\n",
       "    .dataframe tbody tr th:only-of-type {\n",
       "        vertical-align: middle;\n",
       "    }\n",
       "\n",
       "    .dataframe tbody tr th {\n",
       "        vertical-align: top;\n",
       "    }\n",
       "\n",
       "    .dataframe thead th {\n",
       "        text-align: right;\n",
       "    }\n",
       "</style>\n",
       "<table border=\"1\" class=\"dataframe\">\n",
       "  <thead>\n",
       "    <tr style=\"text-align: right;\">\n",
       "      <th></th>\n",
       "      <th>T</th>\n",
       "      <th>dof</th>\n",
       "      <th>alternative</th>\n",
       "      <th>p-val</th>\n",
       "      <th>CI95%</th>\n",
       "      <th>cohen-d</th>\n",
       "      <th>BF10</th>\n",
       "      <th>power</th>\n",
       "    </tr>\n",
       "  </thead>\n",
       "  <tbody>\n",
       "    <tr>\n",
       "      <th>T-test</th>\n",
       "      <td>-2.306144</td>\n",
       "      <td>273</td>\n",
       "      <td>two-sided</td>\n",
       "      <td>0.021852</td>\n",
       "      <td>[814.1, 893.22]</td>\n",
       "      <td>0.139319</td>\n",
       "      <td>0.917</td>\n",
       "      <td>0.632352</td>\n",
       "    </tr>\n",
       "  </tbody>\n",
       "</table>\n",
       "</div>"
      ],
      "text/plain": [
       "               T  dof alternative     p-val            CI95%   cohen-d   BF10  \\\n",
       "T-test -2.306144  273   two-sided  0.021852  [814.1, 893.22]  0.139319  0.917   \n",
       "\n",
       "           power  \n",
       "T-test  0.632352  "
      ]
     },
     "execution_count": 29,
     "metadata": {},
     "output_type": "execute_result"
    }
   ],
   "source": [
    "pg.ttest(df['price'], 900, confidence=0.95) # 귀무가설(없애버릴꺼야): 모평균 = 900 일 것! => 위에서는 0을 넣은 이유는, 신뢰수준만 계산 시에는 아무 상관이 없다. 왜냐면 신뢰 수준은 통계량 -+ 오차 범위인데 둘 다 데이터에서 그냥 나오는 값이라 가설과는 상관이 없다."
   ]
  },
  {
   "cell_type": "code",
   "execution_count": 26,
   "id": "efa14576",
   "metadata": {},
   "outputs": [
    {
     "data": {
      "text/plain": [
       "True"
      ]
     },
     "execution_count": 26,
     "metadata": {},
     "output_type": "execute_result"
    }
   ],
   "source": [
    "p = 0.021852\n",
    "유의수준 = 0.05 # 100% - 신뢰수준 95% = 5%\n",
    "p < 유의수준"
   ]
  },
  {
   "cell_type": "code",
   "execution_count": 28,
   "id": "5d6cf59c",
   "metadata": {},
   "outputs": [
    {
     "data": {
      "text/html": [
       "<div>\n",
       "<style scoped>\n",
       "    .dataframe tbody tr th:only-of-type {\n",
       "        vertical-align: middle;\n",
       "    }\n",
       "\n",
       "    .dataframe tbody tr th {\n",
       "        vertical-align: top;\n",
       "    }\n",
       "\n",
       "    .dataframe thead th {\n",
       "        text-align: right;\n",
       "    }\n",
       "</style>\n",
       "<table border=\"1\" class=\"dataframe\">\n",
       "  <thead>\n",
       "    <tr style=\"text-align: right;\">\n",
       "      <th></th>\n",
       "      <th>department</th>\n",
       "      <th>job_level</th>\n",
       "      <th>marriage</th>\n",
       "      <th>rating</th>\n",
       "      <th>overtime</th>\n",
       "    </tr>\n",
       "  </thead>\n",
       "  <tbody>\n",
       "    <tr>\n",
       "      <th>0</th>\n",
       "      <td>Sales</td>\n",
       "      <td>Salaried</td>\n",
       "      <td>single</td>\n",
       "      <td>4</td>\n",
       "      <td>14</td>\n",
       "    </tr>\n",
       "    <tr>\n",
       "      <th>1</th>\n",
       "      <td>Engineering</td>\n",
       "      <td>Hourly</td>\n",
       "      <td>single</td>\n",
       "      <td>4</td>\n",
       "      <td>8</td>\n",
       "    </tr>\n",
       "    <tr>\n",
       "      <th>2</th>\n",
       "      <td>Engineering</td>\n",
       "      <td>Hourly</td>\n",
       "      <td>single</td>\n",
       "      <td>4</td>\n",
       "      <td>4</td>\n",
       "    </tr>\n",
       "    <tr>\n",
       "      <th>3</th>\n",
       "      <td>Engineering</td>\n",
       "      <td>Salaried</td>\n",
       "      <td>married</td>\n",
       "      <td>4</td>\n",
       "      <td>0</td>\n",
       "    </tr>\n",
       "    <tr>\n",
       "      <th>4</th>\n",
       "      <td>Engineering</td>\n",
       "      <td>Hourly</td>\n",
       "      <td>married</td>\n",
       "      <td>2</td>\n",
       "      <td>21</td>\n",
       "    </tr>\n",
       "  </tbody>\n",
       "</table>\n",
       "</div>"
      ],
      "text/plain": [
       "    department job_level marriage  rating  overtime\n",
       "0        Sales  Salaried   single       4        14\n",
       "1  Engineering    Hourly   single       4         8\n",
       "2  Engineering    Hourly   single       4         4\n",
       "3  Engineering  Salaried  married       4         0\n",
       "4  Engineering    Hourly  married       2        21"
      ]
     },
     "execution_count": 28,
     "metadata": {},
     "output_type": "execute_result"
    }
   ],
   "source": [
    "hr = pd.read_excel('data/hr.xlsx')\n",
    "hr.head()"
   ]
  },
  {
   "cell_type": "code",
   "execution_count": 30,
   "id": "ed8e37e7",
   "metadata": {},
   "outputs": [
    {
     "data": {
      "text/html": [
       "<div>\n",
       "<style scoped>\n",
       "    .dataframe tbody tr th:only-of-type {\n",
       "        vertical-align: middle;\n",
       "    }\n",
       "\n",
       "    .dataframe tbody tr th {\n",
       "        vertical-align: top;\n",
       "    }\n",
       "\n",
       "    .dataframe thead th {\n",
       "        text-align: right;\n",
       "    }\n",
       "</style>\n",
       "<table border=\"1\" class=\"dataframe\">\n",
       "  <thead>\n",
       "    <tr style=\"text-align: right;\">\n",
       "      <th></th>\n",
       "      <th>T</th>\n",
       "      <th>dof</th>\n",
       "      <th>alternative</th>\n",
       "      <th>p-val</th>\n",
       "      <th>CI95%</th>\n",
       "      <th>cohen-d</th>\n",
       "      <th>BF10</th>\n",
       "      <th>power</th>\n",
       "    </tr>\n",
       "  </thead>\n",
       "  <tbody>\n",
       "    <tr>\n",
       "      <th>T-test</th>\n",
       "      <td>-11.537112</td>\n",
       "      <td>1469</td>\n",
       "      <td>two-sided</td>\n",
       "      <td>1.539578e-29</td>\n",
       "      <td>[8.67, 9.64]</td>\n",
       "      <td>0.300911</td>\n",
       "      <td>1.211e+26</td>\n",
       "      <td>1.0</td>\n",
       "    </tr>\n",
       "  </tbody>\n",
       "</table>\n",
       "</div>"
      ],
      "text/plain": [
       "                T   dof alternative         p-val         CI95%   cohen-d  \\\n",
       "T-test -11.537112  1469   two-sided  1.539578e-29  [8.67, 9.64]  0.300911   \n",
       "\n",
       "             BF10  power  \n",
       "T-test  1.211e+26    1.0  "
      ]
     },
     "execution_count": 30,
     "metadata": {},
     "output_type": "execute_result"
    }
   ],
   "source": [
    "# overtime의 모평균 = 12 귀무가설 박살내기\n",
    "pg.ttest(hr['overtime'], 12, confidence=0.95)"
   ]
  },
  {
   "cell_type": "code",
   "execution_count": 31,
   "id": "8a694b33",
   "metadata": {},
   "outputs": [
    {
     "data": {
      "text/plain": [
       "T-test    True\n",
       "Name: p-val, dtype: bool"
      ]
     },
     "execution_count": 31,
     "metadata": {},
     "output_type": "execute_result"
    }
   ],
   "source": [
    "p = pg.ttest(hr['overtime'], 12, confidence=0.95)['p-val']\n",
    "유의수준 = 0.05\n",
    "p < 유의수준 # 유보하지 않고 => 박살낸다!"
   ]
  },
  {
   "cell_type": "markdown",
   "id": "8db04a41",
   "metadata": {},
   "source": [
    "### 독립표본 t 검정 "
   ]
  },
  {
   "cell_type": "code",
   "execution_count": 44,
   "id": "0fb8ed7f",
   "metadata": {},
   "outputs": [
    {
     "data": {
      "text/html": [
       "<div>\n",
       "<style scoped>\n",
       "    .dataframe tbody tr th:only-of-type {\n",
       "        vertical-align: middle;\n",
       "    }\n",
       "\n",
       "    .dataframe tbody tr th {\n",
       "        vertical-align: top;\n",
       "    }\n",
       "\n",
       "    .dataframe thead th {\n",
       "        text-align: right;\n",
       "    }\n",
       "</style>\n",
       "<table border=\"1\" class=\"dataframe\">\n",
       "  <thead>\n",
       "    <tr style=\"text-align: right;\">\n",
       "      <th></th>\n",
       "      <th>price</th>\n",
       "    </tr>\n",
       "    <tr>\n",
       "      <th>model</th>\n",
       "      <th></th>\n",
       "    </tr>\n",
       "  </thead>\n",
       "  <tbody>\n",
       "    <tr>\n",
       "      <th>Avante</th>\n",
       "      <td>833.414634</td>\n",
       "    </tr>\n",
       "    <tr>\n",
       "      <th>K3</th>\n",
       "      <td>913.811594</td>\n",
       "    </tr>\n",
       "  </tbody>\n",
       "</table>\n",
       "</div>"
      ],
      "text/plain": [
       "             price\n",
       "model             \n",
       "Avante  833.414634\n",
       "K3      913.811594"
      ]
     },
     "execution_count": 44,
     "metadata": {},
     "output_type": "execute_result"
    }
   ],
   "source": [
    "df.groupby(['model']).agg({'price':'mean'})"
   ]
  },
  {
   "cell_type": "code",
   "execution_count": 37,
   "id": "1e63c336",
   "metadata": {},
   "outputs": [
    {
     "data": {
      "text/html": [
       "<div>\n",
       "<style scoped>\n",
       "    .dataframe tbody tr th:only-of-type {\n",
       "        vertical-align: middle;\n",
       "    }\n",
       "\n",
       "    .dataframe tbody tr th {\n",
       "        vertical-align: top;\n",
       "    }\n",
       "\n",
       "    .dataframe thead th {\n",
       "        text-align: right;\n",
       "    }\n",
       "</style>\n",
       "<table border=\"1\" class=\"dataframe\">\n",
       "  <thead>\n",
       "    <tr style=\"text-align: right;\">\n",
       "      <th></th>\n",
       "      <th>T</th>\n",
       "      <th>dof</th>\n",
       "      <th>alternative</th>\n",
       "      <th>p-val</th>\n",
       "      <th>CI95%</th>\n",
       "      <th>cohen-d</th>\n",
       "      <th>BF10</th>\n",
       "      <th>power</th>\n",
       "    </tr>\n",
       "  </thead>\n",
       "  <tbody>\n",
       "    <tr>\n",
       "      <th>T-test</th>\n",
       "      <td>-2.21101</td>\n",
       "      <td>196.691919</td>\n",
       "      <td>two-sided</td>\n",
       "      <td>0.028187</td>\n",
       "      <td>[-152.11, -8.69]</td>\n",
       "      <td>0.242614</td>\n",
       "      <td>1.482</td>\n",
       "      <td>0.4119</td>\n",
       "    </tr>\n",
       "  </tbody>\n",
       "</table>\n",
       "</div>"
      ],
      "text/plain": [
       "              T         dof alternative     p-val             CI95%   cohen-d  \\\n",
       "T-test -2.21101  196.691919   two-sided  0.028187  [-152.11, -8.69]  0.242614   \n",
       "\n",
       "         BF10   power  \n",
       "T-test  1.482  0.4119  "
      ]
     },
     "execution_count": 37,
     "metadata": {},
     "output_type": "execute_result"
    }
   ],
   "source": [
    "# 귀무가설: 80만원 정도면 Avante와 K3의 가격 평균이 같다(차이 없음)\n",
    "# 기각하면 -> 차이가 있기는 있다.\n",
    "Avante = df[df.model == 'Avante'].price\n",
    "K3 =  df[df.model == 'K3'].price\n",
    "pg.ttest(Avante, K3)"
   ]
  },
  {
   "cell_type": "code",
   "execution_count": 38,
   "id": "a14cb820",
   "metadata": {},
   "outputs": [
    {
     "data": {
      "text/plain": [
       "True"
      ]
     },
     "execution_count": 38,
     "metadata": {},
     "output_type": "execute_result"
    }
   ],
   "source": [
    "0.028187 < 0.05 # p<유의수준 -> 귀무가설 기각 -> 평균에는 차이가 있다."
   ]
  },
  {
   "cell_type": "code",
   "execution_count": null,
   "id": "bb7121b8",
   "metadata": {},
   "outputs": [],
   "source": [
    "# 평균 차이의 신뢰구간 -152.11 ~ -8.69\n",
    "# 모집단에서는 Avante 평균이 많으면 152만원, 못해도 8만원은 싸다\n",
    "# 하여간 Avante가 K3보다 싸다"
   ]
  },
  {
   "cell_type": "code",
   "execution_count": 45,
   "id": "12760bb8",
   "metadata": {},
   "outputs": [
    {
     "data": {
      "text/html": [
       "<div>\n",
       "<style scoped>\n",
       "    .dataframe tbody tr th:only-of-type {\n",
       "        vertical-align: middle;\n",
       "    }\n",
       "\n",
       "    .dataframe tbody tr th {\n",
       "        vertical-align: top;\n",
       "    }\n",
       "\n",
       "    .dataframe thead th {\n",
       "        text-align: right;\n",
       "    }\n",
       "</style>\n",
       "<table border=\"1\" class=\"dataframe\">\n",
       "  <thead>\n",
       "    <tr style=\"text-align: right;\">\n",
       "      <th></th>\n",
       "      <th>T</th>\n",
       "      <th>dof</th>\n",
       "      <th>alternative</th>\n",
       "      <th>p-val</th>\n",
       "      <th>CI95%</th>\n",
       "      <th>cohen-d</th>\n",
       "      <th>BF10</th>\n",
       "      <th>power</th>\n",
       "    </tr>\n",
       "  </thead>\n",
       "  <tbody>\n",
       "    <tr>\n",
       "      <th>T-test</th>\n",
       "      <td>1.731712</td>\n",
       "      <td>198</td>\n",
       "      <td>two-sided</td>\n",
       "      <td>0.084882</td>\n",
       "      <td>[-0.01, 0.15]</td>\n",
       "      <td>0.244901</td>\n",
       "      <td>0.623</td>\n",
       "      <td>0.406578</td>\n",
       "    </tr>\n",
       "  </tbody>\n",
       "</table>\n",
       "</div>"
      ],
      "text/plain": [
       "               T  dof alternative     p-val          CI95%   cohen-d   BF10  \\\n",
       "T-test  1.731712  198   two-sided  0.084882  [-0.01, 0.15]  0.244901  0.623   \n",
       "\n",
       "           power  \n",
       "T-test  0.406578  "
      ]
     },
     "execution_count": 45,
     "metadata": {},
     "output_type": "execute_result"
    }
   ],
   "source": [
    "# 이 문제에서 신뢰구간으로 유의성을 판별할 때 신뢰구간이 0을 포함하면 귀무가설이 통계적으로 유의한 건가요?\n",
    "x1 = np.random.random(100)\n",
    "x2 = np.random.random(100)\n",
    "pg.ttest(x1, x2)"
   ]
  },
  {
   "cell_type": "code",
   "execution_count": null,
   "id": "68a8fd85",
   "metadata": {},
   "outputs": [],
   "source": [
    "# 신뢰구간 0을 포함하니\n",
    "# => p > 0.05\n",
    "# => 귀무가설 기각 x\n",
    "# => 통계적으로 유의한 차이가 없다"
   ]
  },
  {
   "cell_type": "code",
   "execution_count": 60,
   "id": "49b4dd62",
   "metadata": {},
   "outputs": [
    {
     "data": {
      "text/html": [
       "<div>\n",
       "<style scoped>\n",
       "    .dataframe tbody tr th:only-of-type {\n",
       "        vertical-align: middle;\n",
       "    }\n",
       "\n",
       "    .dataframe tbody tr th {\n",
       "        vertical-align: top;\n",
       "    }\n",
       "\n",
       "    .dataframe thead th {\n",
       "        text-align: right;\n",
       "    }\n",
       "</style>\n",
       "<table border=\"1\" class=\"dataframe\">\n",
       "  <thead>\n",
       "    <tr style=\"text-align: right;\">\n",
       "      <th></th>\n",
       "      <th>T</th>\n",
       "      <th>dof</th>\n",
       "      <th>alternative</th>\n",
       "      <th>p-val</th>\n",
       "      <th>CI95%</th>\n",
       "      <th>cohen-d</th>\n",
       "      <th>BF10</th>\n",
       "      <th>power</th>\n",
       "    </tr>\n",
       "  </thead>\n",
       "  <tbody>\n",
       "    <tr>\n",
       "      <th>T-test</th>\n",
       "      <td>0.498229</td>\n",
       "      <td>1465.031434</td>\n",
       "      <td>two-sided</td>\n",
       "      <td>0.618398</td>\n",
       "      <td>[-0.72, 1.21]</td>\n",
       "      <td>0.025978</td>\n",
       "      <td>0.066</td>\n",
       "      <td>0.078781</td>\n",
       "    </tr>\n",
       "  </tbody>\n",
       "</table>\n",
       "</div>"
      ],
      "text/plain": [
       "               T          dof alternative     p-val          CI95%   cohen-d  \\\n",
       "T-test  0.498229  1465.031434   two-sided  0.618398  [-0.72, 1.21]  0.025978   \n",
       "\n",
       "         BF10     power  \n",
       "T-test  0.066  0.078781  "
      ]
     },
     "execution_count": 60,
     "metadata": {},
     "output_type": "execute_result"
    }
   ],
   "source": [
    "# # 실습\n",
    "# hr.xlsx에서 marriage 변수는 미혼(single)과 기혼(married)을 나타냅니다.\n",
    "# 미혼직원과 기혼사이에 overtime을 독립표본 t 검정으로 비교해 보세요.\n",
    "single = hr[hr['marriage']=='single']['overtime']\n",
    "married = hr[hr['marriage']=='married']['overtime']\n",
    "pg.ttest(single, married)"
   ]
  },
  {
   "cell_type": "code",
   "execution_count": null,
   "id": "8853925d",
   "metadata": {},
   "outputs": [],
   "source": [
    "p = 0.618398\n",
    "p > 0.5 # 귀무가설 기각 못함 -> 결론 유보\n",
    "# -0.72  -0.6, -0.5, -0.4 .... 0 ..... 1.21\n",
    "# 같을 수도 있지만 다른 가능성들도 많으므로 유보"
   ]
  },
  {
   "cell_type": "code",
   "execution_count": 62,
   "id": "33ccc3fe",
   "metadata": {},
   "outputs": [
    {
     "data": {
      "text/html": [
       "<div>\n",
       "<style scoped>\n",
       "    .dataframe tbody tr th:only-of-type {\n",
       "        vertical-align: middle;\n",
       "    }\n",
       "\n",
       "    .dataframe tbody tr th {\n",
       "        vertical-align: top;\n",
       "    }\n",
       "\n",
       "    .dataframe thead th {\n",
       "        text-align: right;\n",
       "    }\n",
       "</style>\n",
       "<table border=\"1\" class=\"dataframe\">\n",
       "  <thead>\n",
       "    <tr style=\"text-align: right;\">\n",
       "      <th></th>\n",
       "      <th>gpa</th>\n",
       "      <th>test</th>\n",
       "      <th>major</th>\n",
       "      <th>hire</th>\n",
       "    </tr>\n",
       "  </thead>\n",
       "  <tbody>\n",
       "    <tr>\n",
       "      <th>0</th>\n",
       "      <td>3.27</td>\n",
       "      <td>45</td>\n",
       "      <td>1</td>\n",
       "      <td>F</td>\n",
       "    </tr>\n",
       "    <tr>\n",
       "      <th>1</th>\n",
       "      <td>3.04</td>\n",
       "      <td>43</td>\n",
       "      <td>1</td>\n",
       "      <td>P</td>\n",
       "    </tr>\n",
       "    <tr>\n",
       "      <th>2</th>\n",
       "      <td>4.13</td>\n",
       "      <td>70</td>\n",
       "      <td>1</td>\n",
       "      <td>P</td>\n",
       "    </tr>\n",
       "    <tr>\n",
       "      <th>3</th>\n",
       "      <td>4.31</td>\n",
       "      <td>50</td>\n",
       "      <td>1</td>\n",
       "      <td>P</td>\n",
       "    </tr>\n",
       "    <tr>\n",
       "      <th>4</th>\n",
       "      <td>3.81</td>\n",
       "      <td>46</td>\n",
       "      <td>1</td>\n",
       "      <td>F</td>\n",
       "    </tr>\n",
       "  </tbody>\n",
       "</table>\n",
       "</div>"
      ],
      "text/plain": [
       "    gpa  test  major hire\n",
       "0  3.27    45      1    F\n",
       "1  3.04    43      1    P\n",
       "2  4.13    70      1    P\n",
       "3  4.31    50      1    P\n",
       "4  3.81    46      1    F"
      ]
     },
     "execution_count": 62,
     "metadata": {},
     "output_type": "execute_result"
    }
   ],
   "source": [
    "hi = pd.read_excel('data/hiring.xlsx')\n",
    "hi.head()"
   ]
  },
  {
   "cell_type": "code",
   "execution_count": 63,
   "id": "7ae0dceb",
   "metadata": {},
   "outputs": [
    {
     "data": {
      "text/html": [
       "<div>\n",
       "<style scoped>\n",
       "    .dataframe tbody tr th:only-of-type {\n",
       "        vertical-align: middle;\n",
       "    }\n",
       "\n",
       "    .dataframe tbody tr th {\n",
       "        vertical-align: top;\n",
       "    }\n",
       "\n",
       "    .dataframe thead th {\n",
       "        text-align: right;\n",
       "    }\n",
       "</style>\n",
       "<table border=\"1\" class=\"dataframe\">\n",
       "  <thead>\n",
       "    <tr style=\"text-align: right;\">\n",
       "      <th></th>\n",
       "      <th>T</th>\n",
       "      <th>dof</th>\n",
       "      <th>alternative</th>\n",
       "      <th>p-val</th>\n",
       "      <th>CI95%</th>\n",
       "      <th>cohen-d</th>\n",
       "      <th>BF10</th>\n",
       "      <th>power</th>\n",
       "    </tr>\n",
       "  </thead>\n",
       "  <tbody>\n",
       "    <tr>\n",
       "      <th>T-test</th>\n",
       "      <td>-0.507503</td>\n",
       "      <td>998</td>\n",
       "      <td>two-sided</td>\n",
       "      <td>0.611914</td>\n",
       "      <td>[-3.24, 1.91]</td>\n",
       "      <td>0.032097</td>\n",
       "      <td>0.08</td>\n",
       "      <td>0.079932</td>\n",
       "    </tr>\n",
       "  </tbody>\n",
       "</table>\n",
       "</div>"
      ],
      "text/plain": [
       "               T  dof alternative     p-val          CI95%   cohen-d  BF10  \\\n",
       "T-test -0.507503  998   two-sided  0.611914  [-3.24, 1.91]  0.032097  0.08   \n",
       "\n",
       "           power  \n",
       "T-test  0.079932  "
      ]
     },
     "execution_count": 63,
     "metadata": {},
     "output_type": "execute_result"
    }
   ],
   "source": [
    "전공자 = hi[hi['major']==1]['test']\n",
    "비전공자 = hi[hi['major']==0]['test']\n",
    "pg.ttest(전공자, 비전공자)"
   ]
  }
 ],
 "metadata": {
  "kernelspec": {
   "display_name": "Python 3 (ipykernel)",
   "language": "python",
   "name": "python3"
  },
  "language_info": {
   "codemirror_mode": {
    "name": "ipython",
    "version": 3
   },
   "file_extension": ".py",
   "mimetype": "text/x-python",
   "name": "python",
   "nbconvert_exporter": "python",
   "pygments_lexer": "ipython3",
   "version": "3.9.13"
  },
  "toc": {
   "base_numbering": 1,
   "nav_menu": {},
   "number_sections": true,
   "sideBar": true,
   "skip_h1_title": false,
   "title_cell": "Table of Contents",
   "title_sidebar": "Contents",
   "toc_cell": false,
   "toc_position": {},
   "toc_section_display": true,
   "toc_window_display": false
  }
 },
 "nbformat": 4,
 "nbformat_minor": 5
}
