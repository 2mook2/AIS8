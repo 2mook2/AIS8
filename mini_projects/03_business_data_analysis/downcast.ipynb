{
 "cells": [
  {
   "cell_type": "markdown",
   "id": "33db3879",
   "metadata": {},
   "source": [
    "# 1400만 ~ 2100만 번째 행 로드"
   ]
  },
  {
   "cell_type": "markdown",
   "id": "5b1da89e",
   "metadata": {},
   "source": [
    "## 라이브러리"
   ]
  },
  {
   "cell_type": "code",
   "execution_count": 1,
   "id": "87461084",
   "metadata": {},
   "outputs": [],
   "source": [
    "import pandas as pd\n",
    "from glob import glob\n",
    "import os"
   ]
  },
  {
   "cell_type": "markdown",
   "id": "1ea32471",
   "metadata": {},
   "source": [
    "## 파일 로드"
   ]
  },
  {
   "cell_type": "code",
   "execution_count": 2,
   "id": "289ef390",
   "metadata": {},
   "outputs": [
    {
     "data": {
      "text/plain": [
       "['data\\\\2019-Oct.csv', 'data\\\\2019-Nov.csv']"
      ]
     },
     "execution_count": 2,
     "metadata": {},
     "output_type": "execute_result"
    }
   ],
   "source": [
    "file_name = glob('data/*.csv')\n",
    "file_name = sorted(file_name, reverse=True)\n",
    "file_name"
   ]
  },
  {
   "cell_type": "code",
   "execution_count": 3,
   "id": "a3e68a1e",
   "metadata": {},
   "outputs": [
    {
     "data": {
      "text/plain": [
       "(700, 9)"
      ]
     },
     "execution_count": 3,
     "metadata": {},
     "output_type": "execute_result"
    }
   ],
   "source": [
    "df = pd.read_csv(file_name[0], header=[0], skiprows=range(1, 14000000), nrows=700) # header 는 컬럼 지정해주는 것(나중에 concat 할 때 컬럼명이 동일해야 하니까)\n",
    "df.shape"
   ]
  },
  {
   "cell_type": "code",
   "execution_count": 4,
   "id": "faf8c91b",
   "metadata": {},
   "outputs": [
    {
     "name": "stdout",
     "output_type": "stream",
     "text": [
      "<class 'pandas.core.frame.DataFrame'>\n",
      "RangeIndex: 700 entries, 0 to 699\n",
      "Data columns (total 9 columns):\n",
      " #   Column         Non-Null Count  Dtype  \n",
      "---  ------         --------------  -----  \n",
      " 0   event_time     700 non-null    object \n",
      " 1   event_type     700 non-null    object \n",
      " 2   product_id     700 non-null    int64  \n",
      " 3   category_id    700 non-null    int64  \n",
      " 4   category_code  458 non-null    object \n",
      " 5   brand          584 non-null    object \n",
      " 6   price          700 non-null    float64\n",
      " 7   user_id        700 non-null    int64  \n",
      " 8   user_session   700 non-null    object \n",
      "dtypes: float64(1), int64(3), object(5)\n",
      "memory usage: 49.3+ KB\n"
     ]
    }
   ],
   "source": [
    "df.info()"
   ]
  },
  {
   "cell_type": "code",
   "execution_count": 5,
   "id": "429091b2",
   "metadata": {},
   "outputs": [
    {
     "data": {
      "text/html": [
       "<div>\n",
       "<style scoped>\n",
       "    .dataframe tbody tr th:only-of-type {\n",
       "        vertical-align: middle;\n",
       "    }\n",
       "\n",
       "    .dataframe tbody tr th {\n",
       "        vertical-align: top;\n",
       "    }\n",
       "\n",
       "    .dataframe thead th {\n",
       "        text-align: right;\n",
       "    }\n",
       "</style>\n",
       "<table border=\"1\" class=\"dataframe\">\n",
       "  <thead>\n",
       "    <tr style=\"text-align: right;\">\n",
       "      <th></th>\n",
       "      <th>event_time</th>\n",
       "      <th>event_type</th>\n",
       "      <th>product_id</th>\n",
       "      <th>category_id</th>\n",
       "      <th>category_code</th>\n",
       "      <th>brand</th>\n",
       "      <th>price</th>\n",
       "      <th>user_id</th>\n",
       "      <th>user_session</th>\n",
       "    </tr>\n",
       "  </thead>\n",
       "  <tbody>\n",
       "    <tr>\n",
       "      <th>0</th>\n",
       "      <td>2019-10-11 16:21:07 UTC</td>\n",
       "      <td>view</td>\n",
       "      <td>23500016</td>\n",
       "      <td>2053013561914950413</td>\n",
       "      <td>NaN</td>\n",
       "      <td>arua</td>\n",
       "      <td>8.55</td>\n",
       "      <td>558345122</td>\n",
       "      <td>77379f47-8abb-42e7-93e1-8483b5f46c63</td>\n",
       "    </tr>\n",
       "    <tr>\n",
       "      <th>1</th>\n",
       "      <td>2019-10-11 16:21:08 UTC</td>\n",
       "      <td>cart</td>\n",
       "      <td>1004839</td>\n",
       "      <td>2053013555631882655</td>\n",
       "      <td>electronics.smartphone</td>\n",
       "      <td>oppo</td>\n",
       "      <td>179.90</td>\n",
       "      <td>516445215</td>\n",
       "      <td>2e45509a-27bc-4ac0-9531-0e666766ef4e</td>\n",
       "    </tr>\n",
       "    <tr>\n",
       "      <th>2</th>\n",
       "      <td>2019-10-11 16:21:08 UTC</td>\n",
       "      <td>view</td>\n",
       "      <td>15100009</td>\n",
       "      <td>2053013557024391671</td>\n",
       "      <td>NaN</td>\n",
       "      <td>NaN</td>\n",
       "      <td>321.73</td>\n",
       "      <td>557112436</td>\n",
       "      <td>3997174d-f6ca-417c-908b-b963e680de96</td>\n",
       "    </tr>\n",
       "    <tr>\n",
       "      <th>3</th>\n",
       "      <td>2019-10-11 16:21:08 UTC</td>\n",
       "      <td>view</td>\n",
       "      <td>1002524</td>\n",
       "      <td>2053013555631882655</td>\n",
       "      <td>electronics.smartphone</td>\n",
       "      <td>apple</td>\n",
       "      <td>566.96</td>\n",
       "      <td>512471616</td>\n",
       "      <td>c4671900-2db4-437e-987c-0f06367d2c22</td>\n",
       "    </tr>\n",
       "    <tr>\n",
       "      <th>4</th>\n",
       "      <td>2019-10-11 16:21:08 UTC</td>\n",
       "      <td>view</td>\n",
       "      <td>14701139</td>\n",
       "      <td>2053013557133443581</td>\n",
       "      <td>furniture.living_room.cabinet</td>\n",
       "      <td>NaN</td>\n",
       "      <td>123.01</td>\n",
       "      <td>559218276</td>\n",
       "      <td>6e5a2c4e-8e39-4717-b44c-033c2918aabc</td>\n",
       "    </tr>\n",
       "    <tr>\n",
       "      <th>...</th>\n",
       "      <td>...</td>\n",
       "      <td>...</td>\n",
       "      <td>...</td>\n",
       "      <td>...</td>\n",
       "      <td>...</td>\n",
       "      <td>...</td>\n",
       "      <td>...</td>\n",
       "      <td>...</td>\n",
       "      <td>...</td>\n",
       "    </tr>\n",
       "    <tr>\n",
       "      <th>695</th>\n",
       "      <td>2019-10-11 16:21:31 UTC</td>\n",
       "      <td>view</td>\n",
       "      <td>12100456</td>\n",
       "      <td>2053013555816432043</td>\n",
       "      <td>kids.skates</td>\n",
       "      <td>kugoo</td>\n",
       "      <td>260.86</td>\n",
       "      <td>550460720</td>\n",
       "      <td>96163819-f2c0-4c23-a870-04f4921813f7</td>\n",
       "    </tr>\n",
       "    <tr>\n",
       "      <th>696</th>\n",
       "      <td>2019-10-11 16:21:31 UTC</td>\n",
       "      <td>view</td>\n",
       "      <td>28715756</td>\n",
       "      <td>2053013565069067197</td>\n",
       "      <td>apparel.shoes.keds</td>\n",
       "      <td>nexpero</td>\n",
       "      <td>75.42</td>\n",
       "      <td>534161718</td>\n",
       "      <td>9ce95e0e-f813-40a5-9297-eb1317a7db9b</td>\n",
       "    </tr>\n",
       "    <tr>\n",
       "      <th>697</th>\n",
       "      <td>2019-10-11 16:21:31 UTC</td>\n",
       "      <td>view</td>\n",
       "      <td>4804056</td>\n",
       "      <td>2053013554658804075</td>\n",
       "      <td>electronics.audio.headphone</td>\n",
       "      <td>apple</td>\n",
       "      <td>160.88</td>\n",
       "      <td>521241687</td>\n",
       "      <td>5712803a-6263-4efd-9055-21d254034950</td>\n",
       "    </tr>\n",
       "    <tr>\n",
       "      <th>698</th>\n",
       "      <td>2019-10-11 16:21:31 UTC</td>\n",
       "      <td>view</td>\n",
       "      <td>16700960</td>\n",
       "      <td>2053013559901684381</td>\n",
       "      <td>furniture.kitchen.chair</td>\n",
       "      <td>zeta</td>\n",
       "      <td>5.89</td>\n",
       "      <td>513453970</td>\n",
       "      <td>886b81a9-753c-48b9-9dc4-b095f571944e</td>\n",
       "    </tr>\n",
       "    <tr>\n",
       "      <th>699</th>\n",
       "      <td>2019-10-11 16:21:31 UTC</td>\n",
       "      <td>view</td>\n",
       "      <td>17300424</td>\n",
       "      <td>2053013553853497655</td>\n",
       "      <td>NaN</td>\n",
       "      <td>versace</td>\n",
       "      <td>95.21</td>\n",
       "      <td>551194762</td>\n",
       "      <td>a3a57481-65c2-481e-b397-b176c9fd24ad</td>\n",
       "    </tr>\n",
       "  </tbody>\n",
       "</table>\n",
       "<p>700 rows × 9 columns</p>\n",
       "</div>"
      ],
      "text/plain": [
       "                  event_time event_type  product_id          category_id  \\\n",
       "0    2019-10-11 16:21:07 UTC       view    23500016  2053013561914950413   \n",
       "1    2019-10-11 16:21:08 UTC       cart     1004839  2053013555631882655   \n",
       "2    2019-10-11 16:21:08 UTC       view    15100009  2053013557024391671   \n",
       "3    2019-10-11 16:21:08 UTC       view     1002524  2053013555631882655   \n",
       "4    2019-10-11 16:21:08 UTC       view    14701139  2053013557133443581   \n",
       "..                       ...        ...         ...                  ...   \n",
       "695  2019-10-11 16:21:31 UTC       view    12100456  2053013555816432043   \n",
       "696  2019-10-11 16:21:31 UTC       view    28715756  2053013565069067197   \n",
       "697  2019-10-11 16:21:31 UTC       view     4804056  2053013554658804075   \n",
       "698  2019-10-11 16:21:31 UTC       view    16700960  2053013559901684381   \n",
       "699  2019-10-11 16:21:31 UTC       view    17300424  2053013553853497655   \n",
       "\n",
       "                     category_code    brand   price    user_id  \\\n",
       "0                              NaN     arua    8.55  558345122   \n",
       "1           electronics.smartphone     oppo  179.90  516445215   \n",
       "2                              NaN      NaN  321.73  557112436   \n",
       "3           electronics.smartphone    apple  566.96  512471616   \n",
       "4    furniture.living_room.cabinet      NaN  123.01  559218276   \n",
       "..                             ...      ...     ...        ...   \n",
       "695                    kids.skates    kugoo  260.86  550460720   \n",
       "696             apparel.shoes.keds  nexpero   75.42  534161718   \n",
       "697    electronics.audio.headphone    apple  160.88  521241687   \n",
       "698        furniture.kitchen.chair     zeta    5.89  513453970   \n",
       "699                            NaN  versace   95.21  551194762   \n",
       "\n",
       "                             user_session  \n",
       "0    77379f47-8abb-42e7-93e1-8483b5f46c63  \n",
       "1    2e45509a-27bc-4ac0-9531-0e666766ef4e  \n",
       "2    3997174d-f6ca-417c-908b-b963e680de96  \n",
       "3    c4671900-2db4-437e-987c-0f06367d2c22  \n",
       "4    6e5a2c4e-8e39-4717-b44c-033c2918aabc  \n",
       "..                                    ...  \n",
       "695  96163819-f2c0-4c23-a870-04f4921813f7  \n",
       "696  9ce95e0e-f813-40a5-9297-eb1317a7db9b  \n",
       "697  5712803a-6263-4efd-9055-21d254034950  \n",
       "698  886b81a9-753c-48b9-9dc4-b095f571944e  \n",
       "699  a3a57481-65c2-481e-b397-b176c9fd24ad  \n",
       "\n",
       "[700 rows x 9 columns]"
      ]
     },
     "execution_count": 5,
     "metadata": {},
     "output_type": "execute_result"
    }
   ],
   "source": [
    "df"
   ]
  },
  {
   "cell_type": "markdown",
   "id": "48dd3fc6",
   "metadata": {},
   "source": [
    "## Downcast 로 용량 줄이기"
   ]
  },
  {
   "cell_type": "code",
   "execution_count": 6,
   "id": "0926ba68",
   "metadata": {},
   "outputs": [
    {
     "name": "stdout",
     "output_type": "stream",
     "text": [
      "<class 'pandas.core.frame.DataFrame'>\n",
      "RangeIndex: 700 entries, 0 to 699\n",
      "Data columns (total 9 columns):\n",
      " #   Column         Non-Null Count  Dtype              \n",
      "---  ------         --------------  -----              \n",
      " 0   event_time     700 non-null    datetime64[ns, UTC]\n",
      " 1   event_type     700 non-null    object             \n",
      " 2   product_id     700 non-null    int64              \n",
      " 3   category_id    700 non-null    int64              \n",
      " 4   category_code  458 non-null    object             \n",
      " 5   brand          584 non-null    object             \n",
      " 6   price          700 non-null    float64            \n",
      " 7   user_id        700 non-null    int64              \n",
      " 8   user_session   700 non-null    object             \n",
      "dtypes: datetime64[ns, UTC](1), float64(1), int64(3), object(4)\n",
      "memory usage: 49.3+ KB\n"
     ]
    }
   ],
   "source": [
    "# event_time 을 object 타입에서 datetime 타입으로 변경\n",
    "df['event_time'] = pd.to_datetime(df['event_time'])\n",
    "df.info()\n",
    "\n",
    "# => 데이트 타임으로 바꿔도 용량은 변하지 않는 듯"
   ]
  },
  {
   "cell_type": "code",
   "execution_count": 7,
   "id": "a03d6470",
   "metadata": {},
   "outputs": [
    {
     "data": {
      "text/plain": [
       "array(['view', 'cart', 'purchase'], dtype=object)"
      ]
     },
     "execution_count": 7,
     "metadata": {},
     "output_type": "execute_result"
    }
   ],
   "source": [
    "df['event_type'].unique()\n",
    "\n",
    "# 0,1, 2 로 해서 용량을 줄이는 방법도 있을 듯\n",
    "# 하지만 일단은 category 타입으로 변경"
   ]
  },
  {
   "cell_type": "code",
   "execution_count": 8,
   "id": "46bcc85b",
   "metadata": {},
   "outputs": [
    {
     "name": "stdout",
     "output_type": "stream",
     "text": [
      "<class 'pandas.core.frame.DataFrame'>\n",
      "RangeIndex: 700 entries, 0 to 699\n",
      "Data columns (total 9 columns):\n",
      " #   Column         Non-Null Count  Dtype              \n",
      "---  ------         --------------  -----              \n",
      " 0   event_time     700 non-null    datetime64[ns, UTC]\n",
      " 1   event_type     700 non-null    category           \n",
      " 2   product_id     700 non-null    int64              \n",
      " 3   category_id    700 non-null    int64              \n",
      " 4   category_code  458 non-null    object             \n",
      " 5   brand          584 non-null    object             \n",
      " 6   price          700 non-null    float64            \n",
      " 7   user_id        700 non-null    int64              \n",
      " 8   user_session   700 non-null    object             \n",
      "dtypes: category(1), datetime64[ns, UTC](1), float64(1), int64(3), object(3)\n",
      "memory usage: 44.7+ KB\n"
     ]
    }
   ],
   "source": [
    "# event_type 을 object 타입에서 category 타입으로 변경\n",
    "df['event_type'] = df['event_type'].astype('category')\n",
    "df.info()"
   ]
  },
  {
   "cell_type": "code",
   "execution_count": 9,
   "id": "e7198332",
   "metadata": {},
   "outputs": [
    {
     "data": {
      "text/plain": [
       "(55000004, 1002099)"
      ]
     },
     "execution_count": 9,
     "metadata": {},
     "output_type": "execute_result"
    }
   ],
   "source": [
    "# product_id 에 음수가 있는지 확인\n",
    "df['product_id'].max(), df['product_id'].min()"
   ]
  },
  {
   "cell_type": "code",
   "execution_count": 10,
   "id": "285827b4",
   "metadata": {},
   "outputs": [
    {
     "name": "stdout",
     "output_type": "stream",
     "text": [
      "<class 'pandas.core.frame.DataFrame'>\n",
      "RangeIndex: 700 entries, 0 to 699\n",
      "Data columns (total 9 columns):\n",
      " #   Column         Non-Null Count  Dtype              \n",
      "---  ------         --------------  -----              \n",
      " 0   event_time     700 non-null    datetime64[ns, UTC]\n",
      " 1   event_type     700 non-null    category           \n",
      " 2   product_id     700 non-null    uint32             \n",
      " 3   category_id    700 non-null    int64              \n",
      " 4   category_code  458 non-null    object             \n",
      " 5   brand          584 non-null    object             \n",
      " 6   price          700 non-null    float64            \n",
      " 7   user_id        700 non-null    int64              \n",
      " 8   user_session   700 non-null    object             \n",
      "dtypes: category(1), datetime64[ns, UTC](1), float64(1), int64(2), object(3), uint32(1)\n",
      "memory usage: 42.0+ KB\n"
     ]
    }
   ],
   "source": [
    "# product_id 의 타입을 int64 에서 uint32 로 변경\n",
    "df['product_id'] = pd.to_numeric(df['product_id'], downcast='unsigned')\n",
    "df.info()"
   ]
  },
  {
   "cell_type": "code",
   "execution_count": 11,
   "id": "ab7b11b3",
   "metadata": {},
   "outputs": [
    {
     "data": {
      "text/plain": [
       "(2172371436436455782, 2053013552259662037)"
      ]
     },
     "execution_count": 11,
     "metadata": {},
     "output_type": "execute_result"
    }
   ],
   "source": [
    "# category_id 에 음수가 있는지 확인\n",
    "df['category_id'].max(), df['category_id'].min()"
   ]
  },
  {
   "cell_type": "code",
   "execution_count": 12,
   "id": "3423a45c",
   "metadata": {},
   "outputs": [
    {
     "name": "stdout",
     "output_type": "stream",
     "text": [
      "<class 'pandas.core.frame.DataFrame'>\n",
      "RangeIndex: 700 entries, 0 to 699\n",
      "Data columns (total 9 columns):\n",
      " #   Column         Non-Null Count  Dtype              \n",
      "---  ------         --------------  -----              \n",
      " 0   event_time     700 non-null    datetime64[ns, UTC]\n",
      " 1   event_type     700 non-null    category           \n",
      " 2   product_id     700 non-null    uint32             \n",
      " 3   category_id    700 non-null    uint64             \n",
      " 4   category_code  458 non-null    object             \n",
      " 5   brand          584 non-null    object             \n",
      " 6   price          700 non-null    float64            \n",
      " 7   user_id        700 non-null    int64              \n",
      " 8   user_session   700 non-null    object             \n",
      "dtypes: category(1), datetime64[ns, UTC](1), float64(1), int64(1), object(3), uint32(1), uint64(1)\n",
      "memory usage: 42.0+ KB\n"
     ]
    }
   ],
   "source": [
    "# category_id 의 타입을 int 에서 uint 로 변경\n",
    "df['category_id'] = pd.to_numeric(df['category_id'], downcast='unsigned')\n",
    "df.info()\n",
    "\n",
    "# 용량이 줄지는 않았음"
   ]
  },
  {
   "cell_type": "code",
   "execution_count": 13,
   "id": "2a3a94dc",
   "metadata": {},
   "outputs": [
    {
     "name": "stdout",
     "output_type": "stream",
     "text": [
      "<class 'pandas.core.frame.DataFrame'>\n",
      "RangeIndex: 700 entries, 0 to 699\n",
      "Data columns (total 9 columns):\n",
      " #   Column         Non-Null Count  Dtype              \n",
      "---  ------         --------------  -----              \n",
      " 0   event_time     700 non-null    datetime64[ns, UTC]\n",
      " 1   event_type     700 non-null    category           \n",
      " 2   product_id     700 non-null    uint32             \n",
      " 3   category_id    700 non-null    uint64             \n",
      " 4   category_code  458 non-null    category           \n",
      " 5   brand          584 non-null    object             \n",
      " 6   price          700 non-null    float64            \n",
      " 7   user_id        700 non-null    int64              \n",
      " 8   user_session   700 non-null    object             \n",
      "dtypes: category(2), datetime64[ns, UTC](1), float64(1), int64(1), object(2), uint32(1), uint64(1)\n",
      "memory usage: 39.7+ KB\n"
     ]
    }
   ],
   "source": [
    "# category_code 의 타입을 category 로 변경\n",
    "df['category_code'] = df['category_code'].astype('category')\n",
    "df.info()"
   ]
  },
  {
   "cell_type": "code",
   "execution_count": 14,
   "id": "1d35492d",
   "metadata": {},
   "outputs": [
    {
     "name": "stdout",
     "output_type": "stream",
     "text": [
      "<class 'pandas.core.frame.DataFrame'>\n",
      "RangeIndex: 700 entries, 0 to 699\n",
      "Data columns (total 9 columns):\n",
      " #   Column         Non-Null Count  Dtype              \n",
      "---  ------         --------------  -----              \n",
      " 0   event_time     700 non-null    datetime64[ns, UTC]\n",
      " 1   event_type     700 non-null    category           \n",
      " 2   product_id     700 non-null    uint32             \n",
      " 3   category_id    700 non-null    uint64             \n",
      " 4   category_code  458 non-null    category           \n",
      " 5   brand          584 non-null    category           \n",
      " 6   price          700 non-null    float64            \n",
      " 7   user_id        700 non-null    int64              \n",
      " 8   user_session   700 non-null    object             \n",
      "dtypes: category(3), datetime64[ns, UTC](1), float64(1), int64(1), object(1), uint32(1), uint64(1)\n",
      "memory usage: 41.2+ KB\n"
     ]
    }
   ],
   "source": [
    "# brand 의 타입을 category 로 변경\n",
    "df['brand'] = df['brand'].astype('category')\n",
    "df.info()"
   ]
  },
  {
   "cell_type": "code",
   "execution_count": 15,
   "id": "240a4251",
   "metadata": {},
   "outputs": [
    {
     "name": "stdout",
     "output_type": "stream",
     "text": [
      "<class 'pandas.core.frame.DataFrame'>\n",
      "RangeIndex: 700 entries, 0 to 699\n",
      "Data columns (total 9 columns):\n",
      " #   Column         Non-Null Count  Dtype              \n",
      "---  ------         --------------  -----              \n",
      " 0   event_time     700 non-null    datetime64[ns, UTC]\n",
      " 1   event_type     700 non-null    category           \n",
      " 2   product_id     700 non-null    uint32             \n",
      " 3   category_id    700 non-null    uint64             \n",
      " 4   category_code  458 non-null    category           \n",
      " 5   brand          584 non-null    category           \n",
      " 6   price          700 non-null    float32            \n",
      " 7   user_id        700 non-null    int64              \n",
      " 8   user_session   700 non-null    object             \n",
      "dtypes: category(3), datetime64[ns, UTC](1), float32(1), int64(1), object(1), uint32(1), uint64(1)\n",
      "memory usage: 38.5+ KB\n"
     ]
    }
   ],
   "source": [
    "# price 의 타입을 float64 에서 float32 로 변경\n",
    "df['price'] = pd.to_numeric(df['price'], downcast='float')\n",
    "df.info()"
   ]
  },
  {
   "cell_type": "code",
   "execution_count": 16,
   "id": "98a8ea02",
   "metadata": {},
   "outputs": [
    {
     "name": "stdout",
     "output_type": "stream",
     "text": [
      "<class 'pandas.core.frame.DataFrame'>\n",
      "RangeIndex: 700 entries, 0 to 699\n",
      "Data columns (total 9 columns):\n",
      " #   Column         Non-Null Count  Dtype              \n",
      "---  ------         --------------  -----              \n",
      " 0   event_time     700 non-null    datetime64[ns, UTC]\n",
      " 1   event_type     700 non-null    category           \n",
      " 2   product_id     700 non-null    uint32             \n",
      " 3   category_id    700 non-null    uint64             \n",
      " 4   category_code  458 non-null    category           \n",
      " 5   brand          584 non-null    category           \n",
      " 6   price          700 non-null    float32            \n",
      " 7   user_id        700 non-null    uint32             \n",
      " 8   user_session   700 non-null    object             \n",
      "dtypes: category(3), datetime64[ns, UTC](1), float32(1), object(1), uint32(2), uint64(1)\n",
      "memory usage: 35.7+ KB\n"
     ]
    }
   ],
   "source": [
    "# user_id 의 타입을 int64 에서 unit32 로 변경\n",
    "df['user_id'] = pd.to_numeric(df['user_id'], downcast='unsigned')\n",
    "df.info()"
   ]
  },
  {
   "cell_type": "code",
   "execution_count": 17,
   "id": "c827a0c4",
   "metadata": {},
   "outputs": [
    {
     "name": "stdout",
     "output_type": "stream",
     "text": [
      "<class 'pandas.core.frame.DataFrame'>\n",
      "RangeIndex: 700 entries, 0 to 699\n",
      "Data columns (total 9 columns):\n",
      " #   Column         Non-Null Count  Dtype              \n",
      "---  ------         --------------  -----              \n",
      " 0   event_time     700 non-null    datetime64[ns, UTC]\n",
      " 1   event_type     700 non-null    category           \n",
      " 2   product_id     700 non-null    uint32             \n",
      " 3   category_id    700 non-null    uint64             \n",
      " 4   category_code  458 non-null    category           \n",
      " 5   brand          584 non-null    category           \n",
      " 6   price          700 non-null    float32            \n",
      " 7   user_id        700 non-null    uint32             \n",
      " 8   user_session   700 non-null    category           \n",
      "dtypes: category(4), datetime64[ns, UTC](1), float32(1), uint32(2), uint64(1)\n",
      "memory usage: 52.7 KB\n"
     ]
    }
   ],
   "source": [
    "df['user_session'] = df['user_session'].astype('category')\n",
    "df.info()\n",
    "\n",
    "# 오히려 용량 증가"
   ]
  },
  {
   "cell_type": "code",
   "execution_count": 18,
   "id": "2741606f",
   "metadata": {},
   "outputs": [],
   "source": [
    "# 정리하자면 \n",
    "# dtype={'event_type':'category', 'product_id':'uint32', 'category_id':'uint64', 'category_code':'category', 'brand':'category', 'price':'float32', 'user_id':'uint32'}"
   ]
  },
  {
   "cell_type": "code",
   "execution_count": 19,
   "id": "0ef35fce",
   "metadata": {},
   "outputs": [
    {
     "name": "stdout",
     "output_type": "stream",
     "text": [
      "<class 'pandas.core.frame.DataFrame'>\n",
      "RangeIndex: 7000001 entries, 0 to 7000000\n",
      "Data columns (total 9 columns):\n",
      " #   Column         Dtype   \n",
      "---  ------         -----   \n",
      " 0   event_time     object  \n",
      " 1   event_type     category\n",
      " 2   product_id     uint32  \n",
      " 3   category_id    uint64  \n",
      " 4   category_code  category\n",
      " 5   brand          category\n",
      " 6   price          float32 \n",
      " 7   user_id        uint32  \n",
      " 8   user_session   object  \n",
      "dtypes: category(3), float32(1), object(2), uint32(2), uint64(1)\n",
      "memory usage: 267.1+ MB\n"
     ]
    }
   ],
   "source": [
    "df = pd.read_csv(file_name[0], header=[0], skiprows=range(1, 14000000), nrows=7000001, dtype={'event_type':'category', 'product_id':'uint32', 'category_id':'uint64', 'category_code':'category', 'brand':'category', 'price':'float32', 'user_id':'uint32'})\n",
    "df.info()"
   ]
  },
  {
   "cell_type": "code",
   "execution_count": 20,
   "id": "1d084182",
   "metadata": {},
   "outputs": [],
   "source": [
    "# 파케로 저장\n",
    "file_path_parquet = 'data/2019-Oct_03.parquet.gzip'\n",
    "df.to_parquet(file_path_parquet, compression='gzip')"
   ]
  },
  {
   "cell_type": "code",
   "execution_count": 21,
   "id": "a5b68f23",
   "metadata": {},
   "outputs": [
    {
     "data": {
      "text/plain": [
       "'165,193,647'"
      ]
     },
     "execution_count": 21,
     "metadata": {},
     "output_type": "execute_result"
    }
   ],
   "source": [
    "# 파일 사이즈 확인\n",
    "psize = os.stat(file_path_parquet).st_size\n",
    "format(psize, ',')"
   ]
  },
  {
   "cell_type": "code",
   "execution_count": 22,
   "id": "83f34b36",
   "metadata": {},
   "outputs": [
    {
     "data": {
      "text/plain": [
       "'157.54 MB'"
      ]
     },
     "execution_count": 22,
     "metadata": {},
     "output_type": "execute_result"
    }
   ],
   "source": [
    "# 파일 사이즈 bytes 로 표기하기\n",
    "def convert_bytes(num):\n",
    "    \"\"\"\n",
    "    1024 보다 크면 숫자를 나누고 아니면 숫자와 단위를 표시하도록\n",
    "    for문을 돌면서 값을 1024로 나누고 \n",
    "    값이 1024 보다 작다면 단위와 함께 num 을 반횐\n",
    "    \"\"\"\n",
    "    for file_size in ['bytes', 'KB', 'MB', 'GB', 'TB']:\n",
    "        if num < 1024:\n",
    "            return(f'{num:.2f} {file_size}') # f스트링으로 num의 format은 소수점 2째 자리까지\n",
    "        num /= 1024\n",
    "\n",
    "\n",
    "def file_size(file_path):\n",
    "    \"\"\"\n",
    "    파일이 있다면 convert_bytes 함수를 통해 크기를 구함\n",
    "    \"\"\"\n",
    "    if os.path.isfile(file_path):\n",
    "        file_info = os.stat(file_path)\n",
    "        return convert_bytes(file_info.st_size)\n",
    "\n",
    "\n",
    "file_size(file_path_parquet)"
   ]
  }
 ],
 "metadata": {
  "kernelspec": {
   "display_name": "Python 3 (ipykernel)",
   "language": "python",
   "name": "python3"
  },
  "language_info": {
   "codemirror_mode": {
    "name": "ipython",
    "version": 3
   },
   "file_extension": ".py",
   "mimetype": "text/x-python",
   "name": "python",
   "nbconvert_exporter": "python",
   "pygments_lexer": "ipython3",
   "version": "3.9.13"
  },
  "toc": {
   "base_numbering": 1,
   "nav_menu": {},
   "number_sections": true,
   "sideBar": true,
   "skip_h1_title": false,
   "title_cell": "Table of Contents",
   "title_sidebar": "Contents",
   "toc_cell": false,
   "toc_position": {},
   "toc_section_display": true,
   "toc_window_display": false
  }
 },
 "nbformat": 4,
 "nbformat_minor": 5
}
